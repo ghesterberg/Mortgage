{
 "cells": [
  {
   "cell_type": "code",
   "metadata": {
    "tags": [],
    "cell_id": "3ea74cfa-b288-4a09-86ef-a40f3c244666",
    "deepnote_to_be_reexecuted": false,
    "source_hash": "a2d6d4d9",
    "execution_start": 1648654577073,
    "execution_millis": 458,
    "deepnote_cell_type": "code",
    "deepnote_cell_height": 697.796875
   },
   "source": "import pandas as pd\ndata = pd.read_csv('practice-project-dataset-1.csv')\ndata.head()\n\nselected_race = 'White'\nselected_sex = 'Female'\n\nfiltered_data = data[(data['derived_race']==selected_race) & (data['derived_sex']==selected_sex)]\n\nfiltered_data['approved'] = np.where(filtered_data['action_taken'] < 3, 1, 0)\n\nfiltered_data['property_value'] = filtered_data['property_value'].replace('Exempt', np.nan).astype(float)\n\nfiltered_data.groupby('state_code')[['property_value', 'approved']].agg( { 'property_value' : 'median', 'approved' : 'mean' } \n\nplt.scatter(final['property_value'])\n",
   "outputs": [
    {
     "output_type": "execute_result",
     "execution_count": 4,
     "data": {
      "application/vnd.deepnote.dataframe.v3+json": {
       "column_count": 99,
       "row_count": 5,
       "columns": [
        {
         "name": "activity_year",
         "dtype": "int64",
         "stats": {
          "unique_count": 1,
          "nan_count": 0,
          "min": "2018",
          "max": "2018",
          "histogram": [
           {
            "bin_start": 2017.5,
            "bin_end": 2017.6,
            "count": 0
           },
           {
            "bin_start": 2017.6,
            "bin_end": 2017.7,
            "count": 0
           },
           {
            "bin_start": 2017.7,
            "bin_end": 2017.8,
            "count": 0
           },
           {
            "bin_start": 2017.8,
            "bin_end": 2017.9,
            "count": 0
           },
           {
            "bin_start": 2017.9,
            "bin_end": 2018,
            "count": 0
           },
           {
            "bin_start": 2018,
            "bin_end": 2018.1,
            "count": 5
           },
           {
            "bin_start": 2018.1,
            "bin_end": 2018.2,
            "count": 0
           },
           {
            "bin_start": 2018.2,
            "bin_end": 2018.3,
            "count": 0
           },
           {
            "bin_start": 2018.3,
            "bin_end": 2018.4,
            "count": 0
           },
           {
            "bin_start": 2018.4,
            "bin_end": 2018.5,
            "count": 0
           }
          ]
         }
        },
        {
         "name": "lei",
         "dtype": "object",
         "stats": {
          "unique_count": 5,
          "nan_count": 0,
          "categories": [
           {
            "name": "5493002QI2ILHHZH8D20",
            "count": 1
           },
           {
            "name": "549300ALNLUNS3Y53T24",
            "count": 1
           },
           {
            "name": "3 others",
            "count": 3
           }
          ]
         }
        },
        {
         "name": "derived_msa_md",
         "dtype": "int64",
         "stats": {
          "unique_count": 5,
          "nan_count": 0,
          "min": "12060",
          "max": "44060",
          "histogram": [
           {
            "bin_start": 12060,
            "bin_end": 15260,
            "count": 1
           },
           {
            "bin_start": 15260,
            "bin_end": 18460,
            "count": 1
           },
           {
            "bin_start": 18460,
            "bin_end": 21660,
            "count": 0
           },
           {
            "bin_start": 21660,
            "bin_end": 24860,
            "count": 0
           },
           {
            "bin_start": 24860,
            "bin_end": 28060,
            "count": 0
           },
           {
            "bin_start": 28060,
            "bin_end": 31260,
            "count": 2
           },
           {
            "bin_start": 31260,
            "bin_end": 34460,
            "count": 0
           },
           {
            "bin_start": 34460,
            "bin_end": 37660,
            "count": 0
           },
           {
            "bin_start": 37660,
            "bin_end": 40860,
            "count": 0
           },
           {
            "bin_start": 40860,
            "bin_end": 44060,
            "count": 1
           }
          ]
         }
        },
        {
         "name": "state_code",
         "dtype": "object",
         "stats": {
          "unique_count": 5,
          "nan_count": 0,
          "categories": [
           {
            "name": "CA",
            "count": 1
           },
           {
            "name": "WA",
            "count": 1
           },
           {
            "name": "3 others",
            "count": 3
           }
          ]
         }
        },
        {
         "name": "county_code",
         "dtype": "float64",
         "stats": {
          "unique_count": 5,
          "nan_count": 0,
          "min": "6037.0",
          "max": "53063.0",
          "histogram": [
           {
            "bin_start": 6037,
            "bin_end": 10739.6,
            "count": 1
           },
           {
            "bin_start": 10739.6,
            "bin_end": 15442.2,
            "count": 1
           },
           {
            "bin_start": 15442.2,
            "bin_end": 20144.800000000003,
            "count": 0
           },
           {
            "bin_start": 20144.800000000003,
            "bin_end": 24847.4,
            "count": 1
           },
           {
            "bin_start": 24847.4,
            "bin_end": 29550,
            "count": 0
           },
           {
            "bin_start": 29550,
            "bin_end": 34252.600000000006,
            "count": 0
           },
           {
            "bin_start": 34252.600000000006,
            "bin_end": 38955.200000000004,
            "count": 0
           },
           {
            "bin_start": 38955.200000000004,
            "bin_end": 43657.8,
            "count": 0
           },
           {
            "bin_start": 43657.8,
            "bin_end": 48360.4,
            "count": 1
           },
           {
            "bin_start": 48360.4,
            "bin_end": 53063,
            "count": 1
           }
          ]
         }
        },
        {
         "name": "census_tract",
         "dtype": "float64",
         "stats": {
          "unique_count": 5,
          "nan_count": 0,
          "min": "6037603001.0",
          "max": "53063011300.0",
          "histogram": [
           {
            "bin_start": 6037603001,
            "bin_end": 10740143830.9,
            "count": 1
           },
           {
            "bin_start": 10740143830.9,
            "bin_end": 15442684660.8,
            "count": 1
           },
           {
            "bin_start": 15442684660.8,
            "bin_end": 20145225490.699997,
            "count": 0
           },
           {
            "bin_start": 20145225490.699997,
            "bin_end": 24847766320.6,
            "count": 1
           },
           {
            "bin_start": 24847766320.6,
            "bin_end": 29550307150.5,
            "count": 0
           },
           {
            "bin_start": 29550307150.5,
            "bin_end": 34252847980.399998,
            "count": 0
           },
           {
            "bin_start": 34252847980.399998,
            "bin_end": 38955388810.299995,
            "count": 0
           },
           {
            "bin_start": 38955388810.299995,
            "bin_end": 43657929640.2,
            "count": 0
           },
           {
            "bin_start": 43657929640.2,
            "bin_end": 48360470470.1,
            "count": 1
           },
           {
            "bin_start": 48360470470.1,
            "bin_end": 53063011300,
            "count": 1
           }
          ]
         }
        },
        {
         "name": "conforming_loan_limit",
         "dtype": "object",
         "stats": {
          "unique_count": 1,
          "nan_count": 0,
          "categories": [
           {
            "name": "C",
            "count": 5
           }
          ]
         }
        },
        {
         "name": "derived_loan_product_type",
         "dtype": "object",
         "stats": {
          "unique_count": 1,
          "nan_count": 0,
          "categories": [
           {
            "name": "Conventional:First Lien",
            "count": 5
           }
          ]
         }
        },
        {
         "name": "derived_dwelling_category",
         "dtype": "object",
         "stats": {
          "unique_count": 1,
          "nan_count": 0,
          "categories": [
           {
            "name": "Single Family (1-4 Units):Site-Built",
            "count": 5
           }
          ]
         }
        },
        {
         "name": "derived_ethnicity",
         "dtype": "object",
         "stats": {
          "unique_count": 1,
          "nan_count": 0,
          "categories": [
           {
            "name": "Not Hispanic or Latino",
            "count": 5
           }
          ]
         }
        },
        {
         "name": "derived_race",
         "dtype": "object",
         "stats": {
          "unique_count": 2,
          "nan_count": 0,
          "categories": [
           {
            "name": "White",
            "count": 4
           },
           {
            "name": "Asian",
            "count": 1
           }
          ]
         }
        },
        {
         "name": "derived_sex",
         "dtype": "object",
         "stats": {
          "unique_count": 3,
          "nan_count": 0,
          "categories": [
           {
            "name": "Joint",
            "count": 3
           },
           {
            "name": "Female",
            "count": 1
           },
           {
            "name": "Male",
            "count": 1
           }
          ]
         }
        },
        {
         "name": "action_taken",
         "dtype": "int64",
         "stats": {
          "unique_count": 2,
          "nan_count": 0,
          "min": "1",
          "max": "3",
          "histogram": [
           {
            "bin_start": 1,
            "bin_end": 1.2,
            "count": 3
           },
           {
            "bin_start": 1.2,
            "bin_end": 1.4,
            "count": 0
           },
           {
            "bin_start": 1.4,
            "bin_end": 1.6,
            "count": 0
           },
           {
            "bin_start": 1.6,
            "bin_end": 1.8,
            "count": 0
           },
           {
            "bin_start": 1.8,
            "bin_end": 2,
            "count": 0
           },
           {
            "bin_start": 2,
            "bin_end": 2.2,
            "count": 0
           },
           {
            "bin_start": 2.2,
            "bin_end": 2.4000000000000004,
            "count": 0
           },
           {
            "bin_start": 2.4000000000000004,
            "bin_end": 2.6,
            "count": 0
           },
           {
            "bin_start": 2.6,
            "bin_end": 2.8,
            "count": 0
           },
           {
            "bin_start": 2.8,
            "bin_end": 3,
            "count": 2
           }
          ]
         }
        },
        {
         "name": "purchaser_type",
         "dtype": "int64",
         "stats": {
          "unique_count": 2,
          "nan_count": 0,
          "min": "0",
          "max": "3",
          "histogram": [
           {
            "bin_start": 0,
            "bin_end": 0.3,
            "count": 3
           },
           {
            "bin_start": 0.3,
            "bin_end": 0.6,
            "count": 0
           },
           {
            "bin_start": 0.6,
            "bin_end": 0.8999999999999999,
            "count": 0
           },
           {
            "bin_start": 0.8999999999999999,
            "bin_end": 1.2,
            "count": 0
           },
           {
            "bin_start": 1.2,
            "bin_end": 1.5,
            "count": 0
           },
           {
            "bin_start": 1.5,
            "bin_end": 1.7999999999999998,
            "count": 0
           },
           {
            "bin_start": 1.7999999999999998,
            "bin_end": 2.1,
            "count": 0
           },
           {
            "bin_start": 2.1,
            "bin_end": 2.4,
            "count": 0
           },
           {
            "bin_start": 2.4,
            "bin_end": 2.6999999999999997,
            "count": 0
           },
           {
            "bin_start": 2.6999999999999997,
            "bin_end": 3,
            "count": 2
           }
          ]
         }
        },
        {
         "name": "preapproval",
         "dtype": "int64",
         "stats": {
          "unique_count": 1,
          "nan_count": 0,
          "min": "2",
          "max": "2",
          "histogram": [
           {
            "bin_start": 1.5,
            "bin_end": 1.6,
            "count": 0
           },
           {
            "bin_start": 1.6,
            "bin_end": 1.7,
            "count": 0
           },
           {
            "bin_start": 1.7,
            "bin_end": 1.8,
            "count": 0
           },
           {
            "bin_start": 1.8,
            "bin_end": 1.9,
            "count": 0
           },
           {
            "bin_start": 1.9,
            "bin_end": 2,
            "count": 0
           },
           {
            "bin_start": 2,
            "bin_end": 2.1,
            "count": 5
           },
           {
            "bin_start": 2.1,
            "bin_end": 2.2,
            "count": 0
           },
           {
            "bin_start": 2.2,
            "bin_end": 2.3,
            "count": 0
           },
           {
            "bin_start": 2.3,
            "bin_end": 2.4,
            "count": 0
           },
           {
            "bin_start": 2.4,
            "bin_end": 2.5,
            "count": 0
           }
          ]
         }
        },
        {
         "name": "loan_type",
         "dtype": "int64",
         "stats": {
          "unique_count": 1,
          "nan_count": 0,
          "min": "1",
          "max": "1",
          "histogram": [
           {
            "bin_start": 0.5,
            "bin_end": 0.6,
            "count": 0
           },
           {
            "bin_start": 0.6,
            "bin_end": 0.7,
            "count": 0
           },
           {
            "bin_start": 0.7,
            "bin_end": 0.8,
            "count": 0
           },
           {
            "bin_start": 0.8,
            "bin_end": 0.9,
            "count": 0
           },
           {
            "bin_start": 0.9,
            "bin_end": 1,
            "count": 0
           },
           {
            "bin_start": 1,
            "bin_end": 1.1,
            "count": 5
           },
           {
            "bin_start": 1.1,
            "bin_end": 1.2000000000000002,
            "count": 0
           },
           {
            "bin_start": 1.2000000000000002,
            "bin_end": 1.3,
            "count": 0
           },
           {
            "bin_start": 1.3,
            "bin_end": 1.4,
            "count": 0
           },
           {
            "bin_start": 1.4,
            "bin_end": 1.5,
            "count": 0
           }
          ]
         }
        },
        {
         "name": "loan_purpose",
         "dtype": "int64",
         "stats": {
          "unique_count": 4,
          "nan_count": 0,
          "min": "1",
          "max": "32",
          "histogram": [
           {
            "bin_start": 1,
            "bin_end": 4.1,
            "count": 3
           },
           {
            "bin_start": 4.1,
            "bin_end": 7.2,
            "count": 0
           },
           {
            "bin_start": 7.2,
            "bin_end": 10.3,
            "count": 0
           },
           {
            "bin_start": 10.3,
            "bin_end": 13.4,
            "count": 0
           },
           {
            "bin_start": 13.4,
            "bin_end": 16.5,
            "count": 0
           },
           {
            "bin_start": 16.5,
            "bin_end": 19.6,
            "count": 0
           },
           {
            "bin_start": 19.6,
            "bin_end": 22.7,
            "count": 0
           },
           {
            "bin_start": 22.7,
            "bin_end": 25.8,
            "count": 0
           },
           {
            "bin_start": 25.8,
            "bin_end": 28.900000000000002,
            "count": 0
           },
           {
            "bin_start": 28.900000000000002,
            "bin_end": 32,
            "count": 2
           }
          ]
         }
        },
        {
         "name": "lien_status",
         "dtype": "int64",
         "stats": {
          "unique_count": 1,
          "nan_count": 0,
          "min": "1",
          "max": "1",
          "histogram": [
           {
            "bin_start": 0.5,
            "bin_end": 0.6,
            "count": 0
           },
           {
            "bin_start": 0.6,
            "bin_end": 0.7,
            "count": 0
           },
           {
            "bin_start": 0.7,
            "bin_end": 0.8,
            "count": 0
           },
           {
            "bin_start": 0.8,
            "bin_end": 0.9,
            "count": 0
           },
           {
            "bin_start": 0.9,
            "bin_end": 1,
            "count": 0
           },
           {
            "bin_start": 1,
            "bin_end": 1.1,
            "count": 5
           },
           {
            "bin_start": 1.1,
            "bin_end": 1.2000000000000002,
            "count": 0
           },
           {
            "bin_start": 1.2000000000000002,
            "bin_end": 1.3,
            "count": 0
           },
           {
            "bin_start": 1.3,
            "bin_end": 1.4,
            "count": 0
           },
           {
            "bin_start": 1.4,
            "bin_end": 1.5,
            "count": 0
           }
          ]
         }
        },
        {
         "name": "reverse_mortgage",
         "dtype": "int64",
         "stats": {
          "unique_count": 2,
          "nan_count": 0,
          "min": "2",
          "max": "1111",
          "histogram": [
           {
            "bin_start": 2,
            "bin_end": 112.9,
            "count": 4
           },
           {
            "bin_start": 112.9,
            "bin_end": 223.8,
            "count": 0
           },
           {
            "bin_start": 223.8,
            "bin_end": 334.70000000000005,
            "count": 0
           },
           {
            "bin_start": 334.70000000000005,
            "bin_end": 445.6,
            "count": 0
           },
           {
            "bin_start": 445.6,
            "bin_end": 556.5,
            "count": 0
           },
           {
            "bin_start": 556.5,
            "bin_end": 667.4000000000001,
            "count": 0
           },
           {
            "bin_start": 667.4000000000001,
            "bin_end": 778.3000000000001,
            "count": 0
           },
           {
            "bin_start": 778.3000000000001,
            "bin_end": 889.2,
            "count": 0
           },
           {
            "bin_start": 889.2,
            "bin_end": 1000.1,
            "count": 0
           },
           {
            "bin_start": 1000.1,
            "bin_end": 1111,
            "count": 1
           }
          ]
         }
        },
        {
         "name": "open_end_line_of_credit",
         "dtype": "int64",
         "stats": {
          "unique_count": 2,
          "nan_count": 0,
          "min": "2",
          "max": "1111",
          "histogram": [
           {
            "bin_start": 2,
            "bin_end": 112.9,
            "count": 4
           },
           {
            "bin_start": 112.9,
            "bin_end": 223.8,
            "count": 0
           },
           {
            "bin_start": 223.8,
            "bin_end": 334.70000000000005,
            "count": 0
           },
           {
            "bin_start": 334.70000000000005,
            "bin_end": 445.6,
            "count": 0
           },
           {
            "bin_start": 445.6,
            "bin_end": 556.5,
            "count": 0
           },
           {
            "bin_start": 556.5,
            "bin_end": 667.4000000000001,
            "count": 0
           },
           {
            "bin_start": 667.4000000000001,
            "bin_end": 778.3000000000001,
            "count": 0
           },
           {
            "bin_start": 778.3000000000001,
            "bin_end": 889.2,
            "count": 0
           },
           {
            "bin_start": 889.2,
            "bin_end": 1000.1,
            "count": 0
           },
           {
            "bin_start": 1000.1,
            "bin_end": 1111,
            "count": 1
           }
          ]
         }
        },
        {
         "name": "business_or_commercial_purpose",
         "dtype": "int64",
         "stats": {
          "unique_count": 2,
          "nan_count": 0,
          "min": "2",
          "max": "1111",
          "histogram": [
           {
            "bin_start": 2,
            "bin_end": 112.9,
            "count": 4
           },
           {
            "bin_start": 112.9,
            "bin_end": 223.8,
            "count": 0
           },
           {
            "bin_start": 223.8,
            "bin_end": 334.70000000000005,
            "count": 0
           },
           {
            "bin_start": 334.70000000000005,
            "bin_end": 445.6,
            "count": 0
           },
           {
            "bin_start": 445.6,
            "bin_end": 556.5,
            "count": 0
           },
           {
            "bin_start": 556.5,
            "bin_end": 667.4000000000001,
            "count": 0
           },
           {
            "bin_start": 667.4000000000001,
            "bin_end": 778.3000000000001,
            "count": 0
           },
           {
            "bin_start": 778.3000000000001,
            "bin_end": 889.2,
            "count": 0
           },
           {
            "bin_start": 889.2,
            "bin_end": 1000.1,
            "count": 0
           },
           {
            "bin_start": 1000.1,
            "bin_end": 1111,
            "count": 1
           }
          ]
         }
        },
        {
         "name": "loan_amount",
         "dtype": "int64",
         "stats": {
          "unique_count": 5,
          "nan_count": 0,
          "min": "105000",
          "max": "545000",
          "histogram": [
           {
            "bin_start": 105000,
            "bin_end": 149000,
            "count": 2
           },
           {
            "bin_start": 149000,
            "bin_end": 193000,
            "count": 1
           },
           {
            "bin_start": 193000,
            "bin_end": 237000,
            "count": 1
           },
           {
            "bin_start": 237000,
            "bin_end": 281000,
            "count": 0
           },
           {
            "bin_start": 281000,
            "bin_end": 325000,
            "count": 0
           },
           {
            "bin_start": 325000,
            "bin_end": 369000,
            "count": 0
           },
           {
            "bin_start": 369000,
            "bin_end": 413000,
            "count": 0
           },
           {
            "bin_start": 413000,
            "bin_end": 457000,
            "count": 0
           },
           {
            "bin_start": 457000,
            "bin_end": 501000,
            "count": 0
           },
           {
            "bin_start": 501000,
            "bin_end": 545000,
            "count": 1
           }
          ]
         }
        },
        {
         "name": "loan_to_value_ratio",
         "dtype": "object",
         "stats": {
          "unique_count": 5,
          "nan_count": 0,
          "categories": [
           {
            "name": "80",
            "count": 1
           },
           {
            "name": "39",
            "count": 1
           },
           {
            "name": "3 others",
            "count": 3
           }
          ]
         }
        },
        {
         "name": "interest_rate",
         "dtype": "object",
         "stats": {
          "unique_count": 4,
          "nan_count": 1,
          "categories": [
           {
            "name": "5.125",
            "count": 1
           },
           {
            "name": "3 others",
            "count": 3
           },
           {
            "name": "Missing",
            "count": 1
           }
          ]
         }
        },
        {
         "name": "rate_spread",
         "dtype": "object",
         "stats": {
          "unique_count": 4,
          "nan_count": 1,
          "categories": [
           {
            "name": "0.689",
            "count": 1
           },
           {
            "name": "3 others",
            "count": 3
           },
           {
            "name": "Missing",
            "count": 1
           }
          ]
         }
        },
        {
         "name": "hoepa_status",
         "dtype": "int64",
         "stats": {
          "unique_count": 2,
          "nan_count": 0,
          "min": "2",
          "max": "3",
          "histogram": [
           {
            "bin_start": 2,
            "bin_end": 2.1,
            "count": 3
           },
           {
            "bin_start": 2.1,
            "bin_end": 2.2,
            "count": 0
           },
           {
            "bin_start": 2.2,
            "bin_end": 2.3,
            "count": 0
           },
           {
            "bin_start": 2.3,
            "bin_end": 2.4,
            "count": 0
           },
           {
            "bin_start": 2.4,
            "bin_end": 2.5,
            "count": 0
           },
           {
            "bin_start": 2.5,
            "bin_end": 2.6,
            "count": 0
           },
           {
            "bin_start": 2.6,
            "bin_end": 2.7,
            "count": 0
           },
           {
            "bin_start": 2.7,
            "bin_end": 2.8,
            "count": 0
           },
           {
            "bin_start": 2.8,
            "bin_end": 2.9,
            "count": 0
           },
           {
            "bin_start": 2.9,
            "bin_end": 3,
            "count": 2
           }
          ]
         }
        },
        {
         "name": "total_loan_costs",
         "dtype": "object",
         "stats": {
          "unique_count": 4,
          "nan_count": 1,
          "categories": [
           {
            "name": "3367",
            "count": 1
           },
           {
            "name": "3 others",
            "count": 3
           },
           {
            "name": "Missing",
            "count": 1
           }
          ]
         }
        },
        {
         "name": "total_points_and_fees",
         "dtype": "object",
         "stats": {
          "unique_count": 1,
          "nan_count": 4,
          "categories": [
           {
            "name": "Exempt",
            "count": 1
           },
           {
            "name": "Missing",
            "count": 4
           }
          ]
         }
        },
        {
         "name": "origination_charges",
         "dtype": "object",
         "stats": {
          "unique_count": 4,
          "nan_count": 1,
          "categories": [
           {
            "name": "1758",
            "count": 1
           },
           {
            "name": "3 others",
            "count": 3
           },
           {
            "name": "Missing",
            "count": 1
           }
          ]
         }
        },
        {
         "name": "discount_points",
         "dtype": "object",
         "stats": {
          "unique_count": 1,
          "nan_count": 4,
          "categories": [
           {
            "name": "Exempt",
            "count": 1
           },
           {
            "name": "Missing",
            "count": 4
           }
          ]
         }
        },
        {
         "name": "lender_credits",
         "dtype": "object",
         "stats": {
          "unique_count": 2,
          "nan_count": 3,
          "categories": [
           {
            "name": "235.14",
            "count": 1
           },
           {
            "name": "Exempt",
            "count": 1
           },
           {
            "name": "Missing",
            "count": 3
           }
          ]
         }
        },
        {
         "name": "loan_term",
         "dtype": "object",
         "stats": {
          "unique_count": 3,
          "nan_count": 0,
          "categories": [
           {
            "name": "360",
            "count": 3
           },
           {
            "name": "372",
            "count": 1
           },
           {
            "name": "Exempt",
            "count": 1
           }
          ]
         }
        },
        {
         "name": "prepayment_penalty_term",
         "dtype": "object",
         "stats": {
          "unique_count": 1,
          "nan_count": 4,
          "categories": [
           {
            "name": "Exempt",
            "count": 1
           },
           {
            "name": "Missing",
            "count": 4
           }
          ]
         }
        },
        {
         "name": "intro_rate_period",
         "dtype": "object",
         "stats": {
          "unique_count": 2,
          "nan_count": 3,
          "categories": [
           {
            "name": "120",
            "count": 1
           },
           {
            "name": "Exempt",
            "count": 1
           },
           {
            "name": "Missing",
            "count": 3
           }
          ]
         }
        },
        {
         "name": "negative_amortization",
         "dtype": "int64",
         "stats": {
          "unique_count": 2,
          "nan_count": 0,
          "min": "2",
          "max": "1111",
          "histogram": [
           {
            "bin_start": 2,
            "bin_end": 112.9,
            "count": 4
           },
           {
            "bin_start": 112.9,
            "bin_end": 223.8,
            "count": 0
           },
           {
            "bin_start": 223.8,
            "bin_end": 334.70000000000005,
            "count": 0
           },
           {
            "bin_start": 334.70000000000005,
            "bin_end": 445.6,
            "count": 0
           },
           {
            "bin_start": 445.6,
            "bin_end": 556.5,
            "count": 0
           },
           {
            "bin_start": 556.5,
            "bin_end": 667.4000000000001,
            "count": 0
           },
           {
            "bin_start": 667.4000000000001,
            "bin_end": 778.3000000000001,
            "count": 0
           },
           {
            "bin_start": 778.3000000000001,
            "bin_end": 889.2,
            "count": 0
           },
           {
            "bin_start": 889.2,
            "bin_end": 1000.1,
            "count": 0
           },
           {
            "bin_start": 1000.1,
            "bin_end": 1111,
            "count": 1
           }
          ]
         }
        },
        {
         "name": "interest_only_payment",
         "dtype": "int64",
         "stats": {
          "unique_count": 3,
          "nan_count": 0,
          "min": "1",
          "max": "1111",
          "histogram": [
           {
            "bin_start": 1,
            "bin_end": 112,
            "count": 4
           },
           {
            "bin_start": 112,
            "bin_end": 223,
            "count": 0
           },
           {
            "bin_start": 223,
            "bin_end": 334,
            "count": 0
           },
           {
            "bin_start": 334,
            "bin_end": 445,
            "count": 0
           },
           {
            "bin_start": 445,
            "bin_end": 556,
            "count": 0
           },
           {
            "bin_start": 556,
            "bin_end": 667,
            "count": 0
           },
           {
            "bin_start": 667,
            "bin_end": 778,
            "count": 0
           },
           {
            "bin_start": 778,
            "bin_end": 889,
            "count": 0
           },
           {
            "bin_start": 889,
            "bin_end": 1000,
            "count": 0
           },
           {
            "bin_start": 1000,
            "bin_end": 1111,
            "count": 1
           }
          ]
         }
        },
        {
         "name": "balloon_payment",
         "dtype": "int64",
         "stats": {
          "unique_count": 2,
          "nan_count": 0,
          "min": "2",
          "max": "1111",
          "histogram": [
           {
            "bin_start": 2,
            "bin_end": 112.9,
            "count": 4
           },
           {
            "bin_start": 112.9,
            "bin_end": 223.8,
            "count": 0
           },
           {
            "bin_start": 223.8,
            "bin_end": 334.70000000000005,
            "count": 0
           },
           {
            "bin_start": 334.70000000000005,
            "bin_end": 445.6,
            "count": 0
           },
           {
            "bin_start": 445.6,
            "bin_end": 556.5,
            "count": 0
           },
           {
            "bin_start": 556.5,
            "bin_end": 667.4000000000001,
            "count": 0
           },
           {
            "bin_start": 667.4000000000001,
            "bin_end": 778.3000000000001,
            "count": 0
           },
           {
            "bin_start": 778.3000000000001,
            "bin_end": 889.2,
            "count": 0
           },
           {
            "bin_start": 889.2,
            "bin_end": 1000.1,
            "count": 0
           },
           {
            "bin_start": 1000.1,
            "bin_end": 1111,
            "count": 1
           }
          ]
         }
        },
        {
         "name": "other_nonamortizing_features",
         "dtype": "int64",
         "stats": {
          "unique_count": 2,
          "nan_count": 0,
          "min": "2",
          "max": "1111",
          "histogram": [
           {
            "bin_start": 2,
            "bin_end": 112.9,
            "count": 4
           },
           {
            "bin_start": 112.9,
            "bin_end": 223.8,
            "count": 0
           },
           {
            "bin_start": 223.8,
            "bin_end": 334.70000000000005,
            "count": 0
           },
           {
            "bin_start": 334.70000000000005,
            "bin_end": 445.6,
            "count": 0
           },
           {
            "bin_start": 445.6,
            "bin_end": 556.5,
            "count": 0
           },
           {
            "bin_start": 556.5,
            "bin_end": 667.4000000000001,
            "count": 0
           },
           {
            "bin_start": 667.4000000000001,
            "bin_end": 778.3000000000001,
            "count": 0
           },
           {
            "bin_start": 778.3000000000001,
            "bin_end": 889.2,
            "count": 0
           },
           {
            "bin_start": 889.2,
            "bin_end": 1000.1,
            "count": 0
           },
           {
            "bin_start": 1000.1,
            "bin_end": 1111,
            "count": 1
           }
          ]
         }
        },
        {
         "name": "property_value",
         "dtype": "object",
         "stats": {
          "unique_count": 5,
          "nan_count": 0,
          "categories": [
           {
            "name": "675000",
            "count": 1
           },
           {
            "name": "285000",
            "count": 1
           },
           {
            "name": "3 others",
            "count": 3
           }
          ]
         }
        },
        {
         "name": "construction_method",
         "dtype": "int64",
         "stats": {
          "unique_count": 1,
          "nan_count": 0,
          "min": "1",
          "max": "1",
          "histogram": [
           {
            "bin_start": 0.5,
            "bin_end": 0.6,
            "count": 0
           },
           {
            "bin_start": 0.6,
            "bin_end": 0.7,
            "count": 0
           },
           {
            "bin_start": 0.7,
            "bin_end": 0.8,
            "count": 0
           },
           {
            "bin_start": 0.8,
            "bin_end": 0.9,
            "count": 0
           },
           {
            "bin_start": 0.9,
            "bin_end": 1,
            "count": 0
           },
           {
            "bin_start": 1,
            "bin_end": 1.1,
            "count": 5
           },
           {
            "bin_start": 1.1,
            "bin_end": 1.2000000000000002,
            "count": 0
           },
           {
            "bin_start": 1.2000000000000002,
            "bin_end": 1.3,
            "count": 0
           },
           {
            "bin_start": 1.3,
            "bin_end": 1.4,
            "count": 0
           },
           {
            "bin_start": 1.4,
            "bin_end": 1.5,
            "count": 0
           }
          ]
         }
        },
        {
         "name": "occupancy_type",
         "dtype": "int64",
         "stats": {
          "unique_count": 1,
          "nan_count": 0,
          "min": "1",
          "max": "1",
          "histogram": [
           {
            "bin_start": 0.5,
            "bin_end": 0.6,
            "count": 0
           },
           {
            "bin_start": 0.6,
            "bin_end": 0.7,
            "count": 0
           },
           {
            "bin_start": 0.7,
            "bin_end": 0.8,
            "count": 0
           },
           {
            "bin_start": 0.8,
            "bin_end": 0.9,
            "count": 0
           },
           {
            "bin_start": 0.9,
            "bin_end": 1,
            "count": 0
           },
           {
            "bin_start": 1,
            "bin_end": 1.1,
            "count": 5
           },
           {
            "bin_start": 1.1,
            "bin_end": 1.2000000000000002,
            "count": 0
           },
           {
            "bin_start": 1.2000000000000002,
            "bin_end": 1.3,
            "count": 0
           },
           {
            "bin_start": 1.3,
            "bin_end": 1.4,
            "count": 0
           },
           {
            "bin_start": 1.4,
            "bin_end": 1.5,
            "count": 0
           }
          ]
         }
        },
        {
         "name": "manufactured_home_secured_property_type",
         "dtype": "int64",
         "stats": {
          "unique_count": 2,
          "nan_count": 0,
          "min": "3",
          "max": "1111",
          "histogram": [
           {
            "bin_start": 3,
            "bin_end": 113.8,
            "count": 4
           },
           {
            "bin_start": 113.8,
            "bin_end": 224.6,
            "count": 0
           },
           {
            "bin_start": 224.6,
            "bin_end": 335.4,
            "count": 0
           },
           {
            "bin_start": 335.4,
            "bin_end": 446.2,
            "count": 0
           },
           {
            "bin_start": 446.2,
            "bin_end": 557,
            "count": 0
           },
           {
            "bin_start": 557,
            "bin_end": 667.8,
            "count": 0
           },
           {
            "bin_start": 667.8,
            "bin_end": 778.6,
            "count": 0
           },
           {
            "bin_start": 778.6,
            "bin_end": 889.4,
            "count": 0
           },
           {
            "bin_start": 889.4,
            "bin_end": 1000.1999999999999,
            "count": 0
           },
           {
            "bin_start": 1000.1999999999999,
            "bin_end": 1111,
            "count": 1
           }
          ]
         }
        },
        {
         "name": "manufactured_home_land_property_interest",
         "dtype": "int64",
         "stats": {
          "unique_count": 2,
          "nan_count": 0,
          "min": "5",
          "max": "1111",
          "histogram": [
           {
            "bin_start": 5,
            "bin_end": 115.6,
            "count": 4
           },
           {
            "bin_start": 115.6,
            "bin_end": 226.2,
            "count": 0
           },
           {
            "bin_start": 226.2,
            "bin_end": 336.79999999999995,
            "count": 0
           },
           {
            "bin_start": 336.79999999999995,
            "bin_end": 447.4,
            "count": 0
           },
           {
            "bin_start": 447.4,
            "bin_end": 558,
            "count": 0
           },
           {
            "bin_start": 558,
            "bin_end": 668.5999999999999,
            "count": 0
           },
           {
            "bin_start": 668.5999999999999,
            "bin_end": 779.1999999999999,
            "count": 0
           },
           {
            "bin_start": 779.1999999999999,
            "bin_end": 889.8,
            "count": 0
           },
           {
            "bin_start": 889.8,
            "bin_end": 1000.4,
            "count": 0
           },
           {
            "bin_start": 1000.4,
            "bin_end": 1111,
            "count": 1
           }
          ]
         }
        },
        {
         "name": "total_units",
         "dtype": "object",
         "stats": {
          "unique_count": 1,
          "nan_count": 0,
          "categories": [
           {
            "name": "1",
            "count": 5
           }
          ]
         }
        },
        {
         "name": "multifamily_affordable_units",
         "dtype": "object",
         "stats": {
          "unique_count": 1,
          "nan_count": 4,
          "categories": [
           {
            "name": "Exempt",
            "count": 1
           },
           {
            "name": "Missing",
            "count": 4
           }
          ]
         }
        },
        {
         "name": "income",
         "dtype": "float64",
         "stats": {
          "unique_count": 5,
          "nan_count": 0,
          "min": "25.0",
          "max": "185.0",
          "histogram": [
           {
            "bin_start": 25,
            "bin_end": 41,
            "count": 3
           },
           {
            "bin_start": 41,
            "bin_end": 57,
            "count": 0
           },
           {
            "bin_start": 57,
            "bin_end": 73,
            "count": 0
           },
           {
            "bin_start": 73,
            "bin_end": 89,
            "count": 0
           },
           {
            "bin_start": 89,
            "bin_end": 105,
            "count": 0
           },
           {
            "bin_start": 105,
            "bin_end": 121,
            "count": 0
           },
           {
            "bin_start": 121,
            "bin_end": 137,
            "count": 0
           },
           {
            "bin_start": 137,
            "bin_end": 153,
            "count": 0
           },
           {
            "bin_start": 153,
            "bin_end": 169,
            "count": 1
           },
           {
            "bin_start": 169,
            "bin_end": 185,
            "count": 1
           }
          ]
         }
        },
        {
         "name": "debt_to_income_ratio",
         "dtype": "object",
         "stats": {
          "unique_count": 4,
          "nan_count": 0,
          "categories": [
           {
            "name": "44",
            "count": 2
           },
           {
            "name": "50%-60%",
            "count": 1
           },
           {
            "name": "2 others",
            "count": 2
           }
          ]
         }
        },
        {
         "name": "applicant_credit_score_type",
         "dtype": "int64",
         "stats": {
          "unique_count": 4,
          "nan_count": 0,
          "min": "1",
          "max": "1111",
          "histogram": [
           {
            "bin_start": 1,
            "bin_end": 112,
            "count": 4
           },
           {
            "bin_start": 112,
            "bin_end": 223,
            "count": 0
           },
           {
            "bin_start": 223,
            "bin_end": 334,
            "count": 0
           },
           {
            "bin_start": 334,
            "bin_end": 445,
            "count": 0
           },
           {
            "bin_start": 445,
            "bin_end": 556,
            "count": 0
           },
           {
            "bin_start": 556,
            "bin_end": 667,
            "count": 0
           },
           {
            "bin_start": 667,
            "bin_end": 778,
            "count": 0
           },
           {
            "bin_start": 778,
            "bin_end": 889,
            "count": 0
           },
           {
            "bin_start": 889,
            "bin_end": 1000,
            "count": 0
           },
           {
            "bin_start": 1000,
            "bin_end": 1111,
            "count": 1
           }
          ]
         }
        },
        {
         "name": "co_applicant_credit_score_type",
         "dtype": "int64",
         "stats": {
          "unique_count": 4,
          "nan_count": 0,
          "min": "1",
          "max": "1111",
          "histogram": [
           {
            "bin_start": 1,
            "bin_end": 112,
            "count": 4
           },
           {
            "bin_start": 112,
            "bin_end": 223,
            "count": 0
           },
           {
            "bin_start": 223,
            "bin_end": 334,
            "count": 0
           },
           {
            "bin_start": 334,
            "bin_end": 445,
            "count": 0
           },
           {
            "bin_start": 445,
            "bin_end": 556,
            "count": 0
           },
           {
            "bin_start": 556,
            "bin_end": 667,
            "count": 0
           },
           {
            "bin_start": 667,
            "bin_end": 778,
            "count": 0
           },
           {
            "bin_start": 778,
            "bin_end": 889,
            "count": 0
           },
           {
            "bin_start": 889,
            "bin_end": 1000,
            "count": 0
           },
           {
            "bin_start": 1000,
            "bin_end": 1111,
            "count": 1
           }
          ]
         }
        },
        {
         "name": "applicant_ethnicity_1",
         "dtype": "float64",
         "stats": {
          "unique_count": 1,
          "nan_count": 0,
          "min": "2.0",
          "max": "2.0",
          "histogram": [
           {
            "bin_start": 1.5,
            "bin_end": 1.6,
            "count": 0
           },
           {
            "bin_start": 1.6,
            "bin_end": 1.7,
            "count": 0
           },
           {
            "bin_start": 1.7,
            "bin_end": 1.8,
            "count": 0
           },
           {
            "bin_start": 1.8,
            "bin_end": 1.9,
            "count": 0
           },
           {
            "bin_start": 1.9,
            "bin_end": 2,
            "count": 0
           },
           {
            "bin_start": 2,
            "bin_end": 2.1,
            "count": 5
           },
           {
            "bin_start": 2.1,
            "bin_end": 2.2,
            "count": 0
           },
           {
            "bin_start": 2.2,
            "bin_end": 2.3,
            "count": 0
           },
           {
            "bin_start": 2.3,
            "bin_end": 2.4,
            "count": 0
           },
           {
            "bin_start": 2.4,
            "bin_end": 2.5,
            "count": 0
           }
          ]
         }
        },
        {
         "name": "applicant_ethnicity_2",
         "dtype": "float64",
         "stats": {
          "unique_count": 0,
          "nan_count": 5,
          "min": null,
          "max": null,
          "histogram": [
           {
            "bin_start": 0,
            "bin_end": 0.1,
            "count": 0
           },
           {
            "bin_start": 0.1,
            "bin_end": 0.2,
            "count": 0
           },
           {
            "bin_start": 0.2,
            "bin_end": 0.30000000000000004,
            "count": 0
           },
           {
            "bin_start": 0.30000000000000004,
            "bin_end": 0.4,
            "count": 0
           },
           {
            "bin_start": 0.4,
            "bin_end": 0.5,
            "count": 0
           },
           {
            "bin_start": 0.5,
            "bin_end": 0.6000000000000001,
            "count": 0
           },
           {
            "bin_start": 0.6000000000000001,
            "bin_end": 0.7000000000000001,
            "count": 0
           },
           {
            "bin_start": 0.7000000000000001,
            "bin_end": 0.8,
            "count": 0
           },
           {
            "bin_start": 0.8,
            "bin_end": 0.9,
            "count": 0
           },
           {
            "bin_start": 0.9,
            "bin_end": 1,
            "count": 0
           }
          ]
         }
        },
        {
         "name": "applicant_ethnicity_3",
         "dtype": "float64",
         "stats": {
          "unique_count": 0,
          "nan_count": 5,
          "min": null,
          "max": null,
          "histogram": [
           {
            "bin_start": 0,
            "bin_end": 0.1,
            "count": 0
           },
           {
            "bin_start": 0.1,
            "bin_end": 0.2,
            "count": 0
           },
           {
            "bin_start": 0.2,
            "bin_end": 0.30000000000000004,
            "count": 0
           },
           {
            "bin_start": 0.30000000000000004,
            "bin_end": 0.4,
            "count": 0
           },
           {
            "bin_start": 0.4,
            "bin_end": 0.5,
            "count": 0
           },
           {
            "bin_start": 0.5,
            "bin_end": 0.6000000000000001,
            "count": 0
           },
           {
            "bin_start": 0.6000000000000001,
            "bin_end": 0.7000000000000001,
            "count": 0
           },
           {
            "bin_start": 0.7000000000000001,
            "bin_end": 0.8,
            "count": 0
           },
           {
            "bin_start": 0.8,
            "bin_end": 0.9,
            "count": 0
           },
           {
            "bin_start": 0.9,
            "bin_end": 1,
            "count": 0
           }
          ]
         }
        },
        {
         "name": "applicant_ethnicity_4",
         "dtype": "float64",
         "stats": {
          "unique_count": 0,
          "nan_count": 5,
          "min": null,
          "max": null,
          "histogram": [
           {
            "bin_start": 0,
            "bin_end": 0.1,
            "count": 0
           },
           {
            "bin_start": 0.1,
            "bin_end": 0.2,
            "count": 0
           },
           {
            "bin_start": 0.2,
            "bin_end": 0.30000000000000004,
            "count": 0
           },
           {
            "bin_start": 0.30000000000000004,
            "bin_end": 0.4,
            "count": 0
           },
           {
            "bin_start": 0.4,
            "bin_end": 0.5,
            "count": 0
           },
           {
            "bin_start": 0.5,
            "bin_end": 0.6000000000000001,
            "count": 0
           },
           {
            "bin_start": 0.6000000000000001,
            "bin_end": 0.7000000000000001,
            "count": 0
           },
           {
            "bin_start": 0.7000000000000001,
            "bin_end": 0.8,
            "count": 0
           },
           {
            "bin_start": 0.8,
            "bin_end": 0.9,
            "count": 0
           },
           {
            "bin_start": 0.9,
            "bin_end": 1,
            "count": 0
           }
          ]
         }
        },
        {
         "name": "applicant_ethnicity_5",
         "dtype": "float64",
         "stats": {
          "unique_count": 0,
          "nan_count": 5,
          "min": null,
          "max": null,
          "histogram": [
           {
            "bin_start": 0,
            "bin_end": 0.1,
            "count": 0
           },
           {
            "bin_start": 0.1,
            "bin_end": 0.2,
            "count": 0
           },
           {
            "bin_start": 0.2,
            "bin_end": 0.30000000000000004,
            "count": 0
           },
           {
            "bin_start": 0.30000000000000004,
            "bin_end": 0.4,
            "count": 0
           },
           {
            "bin_start": 0.4,
            "bin_end": 0.5,
            "count": 0
           },
           {
            "bin_start": 0.5,
            "bin_end": 0.6000000000000001,
            "count": 0
           },
           {
            "bin_start": 0.6000000000000001,
            "bin_end": 0.7000000000000001,
            "count": 0
           },
           {
            "bin_start": 0.7000000000000001,
            "bin_end": 0.8,
            "count": 0
           },
           {
            "bin_start": 0.8,
            "bin_end": 0.9,
            "count": 0
           },
           {
            "bin_start": 0.9,
            "bin_end": 1,
            "count": 0
           }
          ]
         }
        },
        {
         "name": "co_applicant_ethnicity_1",
         "dtype": "int64",
         "stats": {
          "unique_count": 2,
          "nan_count": 0,
          "min": "2",
          "max": "5",
          "histogram": [
           {
            "bin_start": 2,
            "bin_end": 2.3,
            "count": 3
           },
           {
            "bin_start": 2.3,
            "bin_end": 2.6,
            "count": 0
           },
           {
            "bin_start": 2.6,
            "bin_end": 2.9,
            "count": 0
           },
           {
            "bin_start": 2.9,
            "bin_end": 3.2,
            "count": 0
           },
           {
            "bin_start": 3.2,
            "bin_end": 3.5,
            "count": 0
           },
           {
            "bin_start": 3.5,
            "bin_end": 3.8,
            "count": 0
           },
           {
            "bin_start": 3.8,
            "bin_end": 4.1,
            "count": 0
           },
           {
            "bin_start": 4.1,
            "bin_end": 4.4,
            "count": 0
           },
           {
            "bin_start": 4.4,
            "bin_end": 4.699999999999999,
            "count": 0
           },
           {
            "bin_start": 4.699999999999999,
            "bin_end": 5,
            "count": 2
           }
          ]
         }
        },
        {
         "name": "co_applicant_ethnicity_2",
         "dtype": "float64",
         "stats": {
          "unique_count": 0,
          "nan_count": 5,
          "min": null,
          "max": null,
          "histogram": [
           {
            "bin_start": 0,
            "bin_end": 0.1,
            "count": 0
           },
           {
            "bin_start": 0.1,
            "bin_end": 0.2,
            "count": 0
           },
           {
            "bin_start": 0.2,
            "bin_end": 0.30000000000000004,
            "count": 0
           },
           {
            "bin_start": 0.30000000000000004,
            "bin_end": 0.4,
            "count": 0
           },
           {
            "bin_start": 0.4,
            "bin_end": 0.5,
            "count": 0
           },
           {
            "bin_start": 0.5,
            "bin_end": 0.6000000000000001,
            "count": 0
           },
           {
            "bin_start": 0.6000000000000001,
            "bin_end": 0.7000000000000001,
            "count": 0
           },
           {
            "bin_start": 0.7000000000000001,
            "bin_end": 0.8,
            "count": 0
           },
           {
            "bin_start": 0.8,
            "bin_end": 0.9,
            "count": 0
           },
           {
            "bin_start": 0.9,
            "bin_end": 1,
            "count": 0
           }
          ]
         }
        },
        {
         "name": "co_applicant_ethnicity_3",
         "dtype": "float64",
         "stats": {
          "unique_count": 0,
          "nan_count": 5,
          "min": null,
          "max": null,
          "histogram": [
           {
            "bin_start": 0,
            "bin_end": 0.1,
            "count": 0
           },
           {
            "bin_start": 0.1,
            "bin_end": 0.2,
            "count": 0
           },
           {
            "bin_start": 0.2,
            "bin_end": 0.30000000000000004,
            "count": 0
           },
           {
            "bin_start": 0.30000000000000004,
            "bin_end": 0.4,
            "count": 0
           },
           {
            "bin_start": 0.4,
            "bin_end": 0.5,
            "count": 0
           },
           {
            "bin_start": 0.5,
            "bin_end": 0.6000000000000001,
            "count": 0
           },
           {
            "bin_start": 0.6000000000000001,
            "bin_end": 0.7000000000000001,
            "count": 0
           },
           {
            "bin_start": 0.7000000000000001,
            "bin_end": 0.8,
            "count": 0
           },
           {
            "bin_start": 0.8,
            "bin_end": 0.9,
            "count": 0
           },
           {
            "bin_start": 0.9,
            "bin_end": 1,
            "count": 0
           }
          ]
         }
        },
        {
         "name": "co_applicant_ethnicity_4",
         "dtype": "float64",
         "stats": {
          "unique_count": 0,
          "nan_count": 5,
          "min": null,
          "max": null,
          "histogram": [
           {
            "bin_start": 0,
            "bin_end": 0.1,
            "count": 0
           },
           {
            "bin_start": 0.1,
            "bin_end": 0.2,
            "count": 0
           },
           {
            "bin_start": 0.2,
            "bin_end": 0.30000000000000004,
            "count": 0
           },
           {
            "bin_start": 0.30000000000000004,
            "bin_end": 0.4,
            "count": 0
           },
           {
            "bin_start": 0.4,
            "bin_end": 0.5,
            "count": 0
           },
           {
            "bin_start": 0.5,
            "bin_end": 0.6000000000000001,
            "count": 0
           },
           {
            "bin_start": 0.6000000000000001,
            "bin_end": 0.7000000000000001,
            "count": 0
           },
           {
            "bin_start": 0.7000000000000001,
            "bin_end": 0.8,
            "count": 0
           },
           {
            "bin_start": 0.8,
            "bin_end": 0.9,
            "count": 0
           },
           {
            "bin_start": 0.9,
            "bin_end": 1,
            "count": 0
           }
          ]
         }
        },
        {
         "name": "co_applicant_ethnicity_5",
         "dtype": "float64",
         "stats": {
          "unique_count": 0,
          "nan_count": 5,
          "min": null,
          "max": null,
          "histogram": [
           {
            "bin_start": 0,
            "bin_end": 0.1,
            "count": 0
           },
           {
            "bin_start": 0.1,
            "bin_end": 0.2,
            "count": 0
           },
           {
            "bin_start": 0.2,
            "bin_end": 0.30000000000000004,
            "count": 0
           },
           {
            "bin_start": 0.30000000000000004,
            "bin_end": 0.4,
            "count": 0
           },
           {
            "bin_start": 0.4,
            "bin_end": 0.5,
            "count": 0
           },
           {
            "bin_start": 0.5,
            "bin_end": 0.6000000000000001,
            "count": 0
           },
           {
            "bin_start": 0.6000000000000001,
            "bin_end": 0.7000000000000001,
            "count": 0
           },
           {
            "bin_start": 0.7000000000000001,
            "bin_end": 0.8,
            "count": 0
           },
           {
            "bin_start": 0.8,
            "bin_end": 0.9,
            "count": 0
           },
           {
            "bin_start": 0.9,
            "bin_end": 1,
            "count": 0
           }
          ]
         }
        },
        {
         "name": "applicant_ethnicity_observed",
         "dtype": "int64",
         "stats": {
          "unique_count": 1,
          "nan_count": 0,
          "min": "2",
          "max": "2",
          "histogram": [
           {
            "bin_start": 1.5,
            "bin_end": 1.6,
            "count": 0
           },
           {
            "bin_start": 1.6,
            "bin_end": 1.7,
            "count": 0
           },
           {
            "bin_start": 1.7,
            "bin_end": 1.8,
            "count": 0
           },
           {
            "bin_start": 1.8,
            "bin_end": 1.9,
            "count": 0
           },
           {
            "bin_start": 1.9,
            "bin_end": 2,
            "count": 0
           },
           {
            "bin_start": 2,
            "bin_end": 2.1,
            "count": 5
           },
           {
            "bin_start": 2.1,
            "bin_end": 2.2,
            "count": 0
           },
           {
            "bin_start": 2.2,
            "bin_end": 2.3,
            "count": 0
           },
           {
            "bin_start": 2.3,
            "bin_end": 2.4,
            "count": 0
           },
           {
            "bin_start": 2.4,
            "bin_end": 2.5,
            "count": 0
           }
          ]
         }
        },
        {
         "name": "co_applicant_ethnicity_observed",
         "dtype": "int64",
         "stats": {
          "unique_count": 2,
          "nan_count": 0,
          "min": "2",
          "max": "4",
          "histogram": [
           {
            "bin_start": 2,
            "bin_end": 2.2,
            "count": 3
           },
           {
            "bin_start": 2.2,
            "bin_end": 2.4,
            "count": 0
           },
           {
            "bin_start": 2.4,
            "bin_end": 2.6,
            "count": 0
           },
           {
            "bin_start": 2.6,
            "bin_end": 2.8,
            "count": 0
           },
           {
            "bin_start": 2.8,
            "bin_end": 3,
            "count": 0
           },
           {
            "bin_start": 3,
            "bin_end": 3.2,
            "count": 0
           },
           {
            "bin_start": 3.2,
            "bin_end": 3.4000000000000004,
            "count": 0
           },
           {
            "bin_start": 3.4000000000000004,
            "bin_end": 3.6,
            "count": 0
           },
           {
            "bin_start": 3.6,
            "bin_end": 3.8,
            "count": 0
           },
           {
            "bin_start": 3.8,
            "bin_end": 4,
            "count": 2
           }
          ]
         }
        },
        {
         "name": "applicant_race_1",
         "dtype": "float64",
         "stats": {
          "unique_count": 2,
          "nan_count": 0,
          "min": "2.0",
          "max": "5.0",
          "histogram": [
           {
            "bin_start": 2,
            "bin_end": 2.3,
            "count": 1
           },
           {
            "bin_start": 2.3,
            "bin_end": 2.6,
            "count": 0
           },
           {
            "bin_start": 2.6,
            "bin_end": 2.9,
            "count": 0
           },
           {
            "bin_start": 2.9,
            "bin_end": 3.2,
            "count": 0
           },
           {
            "bin_start": 3.2,
            "bin_end": 3.5,
            "count": 0
           },
           {
            "bin_start": 3.5,
            "bin_end": 3.8,
            "count": 0
           },
           {
            "bin_start": 3.8,
            "bin_end": 4.1,
            "count": 0
           },
           {
            "bin_start": 4.1,
            "bin_end": 4.4,
            "count": 0
           },
           {
            "bin_start": 4.4,
            "bin_end": 4.699999999999999,
            "count": 0
           },
           {
            "bin_start": 4.699999999999999,
            "bin_end": 5,
            "count": 4
           }
          ]
         }
        },
        {
         "name": "applicant_race_2",
         "dtype": "float64",
         "stats": {
          "unique_count": 1,
          "nan_count": 4,
          "min": "22.0",
          "max": "22.0",
          "histogram": [
           {
            "bin_start": 21.5,
            "bin_end": 21.6,
            "count": 0
           },
           {
            "bin_start": 21.6,
            "bin_end": 21.7,
            "count": 0
           },
           {
            "bin_start": 21.7,
            "bin_end": 21.8,
            "count": 0
           },
           {
            "bin_start": 21.8,
            "bin_end": 21.9,
            "count": 0
           },
           {
            "bin_start": 21.9,
            "bin_end": 22,
            "count": 0
           },
           {
            "bin_start": 22,
            "bin_end": 22.1,
            "count": 1
           },
           {
            "bin_start": 22.1,
            "bin_end": 22.2,
            "count": 0
           },
           {
            "bin_start": 22.2,
            "bin_end": 22.3,
            "count": 0
           },
           {
            "bin_start": 22.3,
            "bin_end": 22.4,
            "count": 0
           },
           {
            "bin_start": 22.4,
            "bin_end": 22.5,
            "count": 0
           }
          ]
         }
        },
        {
         "name": "applicant_race_3",
         "dtype": "float64",
         "stats": {
          "unique_count": 0,
          "nan_count": 5,
          "min": null,
          "max": null,
          "histogram": [
           {
            "bin_start": 0,
            "bin_end": 0.1,
            "count": 0
           },
           {
            "bin_start": 0.1,
            "bin_end": 0.2,
            "count": 0
           },
           {
            "bin_start": 0.2,
            "bin_end": 0.30000000000000004,
            "count": 0
           },
           {
            "bin_start": 0.30000000000000004,
            "bin_end": 0.4,
            "count": 0
           },
           {
            "bin_start": 0.4,
            "bin_end": 0.5,
            "count": 0
           },
           {
            "bin_start": 0.5,
            "bin_end": 0.6000000000000001,
            "count": 0
           },
           {
            "bin_start": 0.6000000000000001,
            "bin_end": 0.7000000000000001,
            "count": 0
           },
           {
            "bin_start": 0.7000000000000001,
            "bin_end": 0.8,
            "count": 0
           },
           {
            "bin_start": 0.8,
            "bin_end": 0.9,
            "count": 0
           },
           {
            "bin_start": 0.9,
            "bin_end": 1,
            "count": 0
           }
          ]
         }
        },
        {
         "name": "applicant_race_4",
         "dtype": "float64",
         "stats": {
          "unique_count": 0,
          "nan_count": 5,
          "min": null,
          "max": null,
          "histogram": [
           {
            "bin_start": 0,
            "bin_end": 0.1,
            "count": 0
           },
           {
            "bin_start": 0.1,
            "bin_end": 0.2,
            "count": 0
           },
           {
            "bin_start": 0.2,
            "bin_end": 0.30000000000000004,
            "count": 0
           },
           {
            "bin_start": 0.30000000000000004,
            "bin_end": 0.4,
            "count": 0
           },
           {
            "bin_start": 0.4,
            "bin_end": 0.5,
            "count": 0
           },
           {
            "bin_start": 0.5,
            "bin_end": 0.6000000000000001,
            "count": 0
           },
           {
            "bin_start": 0.6000000000000001,
            "bin_end": 0.7000000000000001,
            "count": 0
           },
           {
            "bin_start": 0.7000000000000001,
            "bin_end": 0.8,
            "count": 0
           },
           {
            "bin_start": 0.8,
            "bin_end": 0.9,
            "count": 0
           },
           {
            "bin_start": 0.9,
            "bin_end": 1,
            "count": 0
           }
          ]
         }
        },
        {
         "name": "applicant_race_5",
         "dtype": "float64",
         "stats": {
          "unique_count": 0,
          "nan_count": 5,
          "min": null,
          "max": null,
          "histogram": [
           {
            "bin_start": 0,
            "bin_end": 0.1,
            "count": 0
           },
           {
            "bin_start": 0.1,
            "bin_end": 0.2,
            "count": 0
           },
           {
            "bin_start": 0.2,
            "bin_end": 0.30000000000000004,
            "count": 0
           },
           {
            "bin_start": 0.30000000000000004,
            "bin_end": 0.4,
            "count": 0
           },
           {
            "bin_start": 0.4,
            "bin_end": 0.5,
            "count": 0
           },
           {
            "bin_start": 0.5,
            "bin_end": 0.6000000000000001,
            "count": 0
           },
           {
            "bin_start": 0.6000000000000001,
            "bin_end": 0.7000000000000001,
            "count": 0
           },
           {
            "bin_start": 0.7000000000000001,
            "bin_end": 0.8,
            "count": 0
           },
           {
            "bin_start": 0.8,
            "bin_end": 0.9,
            "count": 0
           },
           {
            "bin_start": 0.9,
            "bin_end": 1,
            "count": 0
           }
          ]
         }
        },
        {
         "name": "co_applicant_race_1",
         "dtype": "int64",
         "stats": {
          "unique_count": 3,
          "nan_count": 0,
          "min": "2",
          "max": "8",
          "histogram": [
           {
            "bin_start": 2,
            "bin_end": 2.6,
            "count": 1
           },
           {
            "bin_start": 2.6,
            "bin_end": 3.2,
            "count": 0
           },
           {
            "bin_start": 3.2,
            "bin_end": 3.8,
            "count": 0
           },
           {
            "bin_start": 3.8,
            "bin_end": 4.4,
            "count": 0
           },
           {
            "bin_start": 4.4,
            "bin_end": 5,
            "count": 0
           },
           {
            "bin_start": 5,
            "bin_end": 5.6,
            "count": 2
           },
           {
            "bin_start": 5.6,
            "bin_end": 6.2,
            "count": 0
           },
           {
            "bin_start": 6.2,
            "bin_end": 6.8,
            "count": 0
           },
           {
            "bin_start": 6.8,
            "bin_end": 7.3999999999999995,
            "count": 0
           },
           {
            "bin_start": 7.3999999999999995,
            "bin_end": 8,
            "count": 2
           }
          ]
         }
        },
        {
         "name": "co_applicant_race_2",
         "dtype": "float64",
         "stats": {
          "unique_count": 1,
          "nan_count": 4,
          "min": "22.0",
          "max": "22.0",
          "histogram": [
           {
            "bin_start": 21.5,
            "bin_end": 21.6,
            "count": 0
           },
           {
            "bin_start": 21.6,
            "bin_end": 21.7,
            "count": 0
           },
           {
            "bin_start": 21.7,
            "bin_end": 21.8,
            "count": 0
           },
           {
            "bin_start": 21.8,
            "bin_end": 21.9,
            "count": 0
           },
           {
            "bin_start": 21.9,
            "bin_end": 22,
            "count": 0
           },
           {
            "bin_start": 22,
            "bin_end": 22.1,
            "count": 1
           },
           {
            "bin_start": 22.1,
            "bin_end": 22.2,
            "count": 0
           },
           {
            "bin_start": 22.2,
            "bin_end": 22.3,
            "count": 0
           },
           {
            "bin_start": 22.3,
            "bin_end": 22.4,
            "count": 0
           },
           {
            "bin_start": 22.4,
            "bin_end": 22.5,
            "count": 0
           }
          ]
         }
        },
        {
         "name": "co_applicant_race_3",
         "dtype": "float64",
         "stats": {
          "unique_count": 0,
          "nan_count": 5,
          "min": null,
          "max": null,
          "histogram": [
           {
            "bin_start": 0,
            "bin_end": 0.1,
            "count": 0
           },
           {
            "bin_start": 0.1,
            "bin_end": 0.2,
            "count": 0
           },
           {
            "bin_start": 0.2,
            "bin_end": 0.30000000000000004,
            "count": 0
           },
           {
            "bin_start": 0.30000000000000004,
            "bin_end": 0.4,
            "count": 0
           },
           {
            "bin_start": 0.4,
            "bin_end": 0.5,
            "count": 0
           },
           {
            "bin_start": 0.5,
            "bin_end": 0.6000000000000001,
            "count": 0
           },
           {
            "bin_start": 0.6000000000000001,
            "bin_end": 0.7000000000000001,
            "count": 0
           },
           {
            "bin_start": 0.7000000000000001,
            "bin_end": 0.8,
            "count": 0
           },
           {
            "bin_start": 0.8,
            "bin_end": 0.9,
            "count": 0
           },
           {
            "bin_start": 0.9,
            "bin_end": 1,
            "count": 0
           }
          ]
         }
        },
        {
         "name": "co_applicant_race_4",
         "dtype": "float64",
         "stats": {
          "unique_count": 0,
          "nan_count": 5,
          "min": null,
          "max": null,
          "histogram": [
           {
            "bin_start": 0,
            "bin_end": 0.1,
            "count": 0
           },
           {
            "bin_start": 0.1,
            "bin_end": 0.2,
            "count": 0
           },
           {
            "bin_start": 0.2,
            "bin_end": 0.30000000000000004,
            "count": 0
           },
           {
            "bin_start": 0.30000000000000004,
            "bin_end": 0.4,
            "count": 0
           },
           {
            "bin_start": 0.4,
            "bin_end": 0.5,
            "count": 0
           },
           {
            "bin_start": 0.5,
            "bin_end": 0.6000000000000001,
            "count": 0
           },
           {
            "bin_start": 0.6000000000000001,
            "bin_end": 0.7000000000000001,
            "count": 0
           },
           {
            "bin_start": 0.7000000000000001,
            "bin_end": 0.8,
            "count": 0
           },
           {
            "bin_start": 0.8,
            "bin_end": 0.9,
            "count": 0
           },
           {
            "bin_start": 0.9,
            "bin_end": 1,
            "count": 0
           }
          ]
         }
        },
        {
         "name": "co_applicant_race_5",
         "dtype": "float64",
         "stats": {
          "unique_count": 0,
          "nan_count": 5,
          "min": null,
          "max": null,
          "histogram": [
           {
            "bin_start": 0,
            "bin_end": 0.1,
            "count": 0
           },
           {
            "bin_start": 0.1,
            "bin_end": 0.2,
            "count": 0
           },
           {
            "bin_start": 0.2,
            "bin_end": 0.30000000000000004,
            "count": 0
           },
           {
            "bin_start": 0.30000000000000004,
            "bin_end": 0.4,
            "count": 0
           },
           {
            "bin_start": 0.4,
            "bin_end": 0.5,
            "count": 0
           },
           {
            "bin_start": 0.5,
            "bin_end": 0.6000000000000001,
            "count": 0
           },
           {
            "bin_start": 0.6000000000000001,
            "bin_end": 0.7000000000000001,
            "count": 0
           },
           {
            "bin_start": 0.7000000000000001,
            "bin_end": 0.8,
            "count": 0
           },
           {
            "bin_start": 0.8,
            "bin_end": 0.9,
            "count": 0
           },
           {
            "bin_start": 0.9,
            "bin_end": 1,
            "count": 0
           }
          ]
         }
        },
        {
         "name": "applicant_race_observed",
         "dtype": "int64",
         "stats": {
          "unique_count": 1,
          "nan_count": 0,
          "min": "2",
          "max": "2",
          "histogram": [
           {
            "bin_start": 1.5,
            "bin_end": 1.6,
            "count": 0
           },
           {
            "bin_start": 1.6,
            "bin_end": 1.7,
            "count": 0
           },
           {
            "bin_start": 1.7,
            "bin_end": 1.8,
            "count": 0
           },
           {
            "bin_start": 1.8,
            "bin_end": 1.9,
            "count": 0
           },
           {
            "bin_start": 1.9,
            "bin_end": 2,
            "count": 0
           },
           {
            "bin_start": 2,
            "bin_end": 2.1,
            "count": 5
           },
           {
            "bin_start": 2.1,
            "bin_end": 2.2,
            "count": 0
           },
           {
            "bin_start": 2.2,
            "bin_end": 2.3,
            "count": 0
           },
           {
            "bin_start": 2.3,
            "bin_end": 2.4,
            "count": 0
           },
           {
            "bin_start": 2.4,
            "bin_end": 2.5,
            "count": 0
           }
          ]
         }
        },
        {
         "name": "co_applicant_race_observed",
         "dtype": "int64",
         "stats": {
          "unique_count": 2,
          "nan_count": 0,
          "min": "2",
          "max": "4",
          "histogram": [
           {
            "bin_start": 2,
            "bin_end": 2.2,
            "count": 3
           },
           {
            "bin_start": 2.2,
            "bin_end": 2.4,
            "count": 0
           },
           {
            "bin_start": 2.4,
            "bin_end": 2.6,
            "count": 0
           },
           {
            "bin_start": 2.6,
            "bin_end": 2.8,
            "count": 0
           },
           {
            "bin_start": 2.8,
            "bin_end": 3,
            "count": 0
           },
           {
            "bin_start": 3,
            "bin_end": 3.2,
            "count": 0
           },
           {
            "bin_start": 3.2,
            "bin_end": 3.4000000000000004,
            "count": 0
           },
           {
            "bin_start": 3.4000000000000004,
            "bin_end": 3.6,
            "count": 0
           },
           {
            "bin_start": 3.6,
            "bin_end": 3.8,
            "count": 0
           },
           {
            "bin_start": 3.8,
            "bin_end": 4,
            "count": 2
           }
          ]
         }
        },
        {
         "name": "applicant_sex",
         "dtype": "int64",
         "stats": {
          "unique_count": 2,
          "nan_count": 0,
          "min": "1",
          "max": "2",
          "histogram": [
           {
            "bin_start": 1,
            "bin_end": 1.1,
            "count": 4
           },
           {
            "bin_start": 1.1,
            "bin_end": 1.2,
            "count": 0
           },
           {
            "bin_start": 1.2,
            "bin_end": 1.3,
            "count": 0
           },
           {
            "bin_start": 1.3,
            "bin_end": 1.4,
            "count": 0
           },
           {
            "bin_start": 1.4,
            "bin_end": 1.5,
            "count": 0
           },
           {
            "bin_start": 1.5,
            "bin_end": 1.6,
            "count": 0
           },
           {
            "bin_start": 1.6,
            "bin_end": 1.7000000000000002,
            "count": 0
           },
           {
            "bin_start": 1.7000000000000002,
            "bin_end": 1.8,
            "count": 0
           },
           {
            "bin_start": 1.8,
            "bin_end": 1.9,
            "count": 0
           },
           {
            "bin_start": 1.9,
            "bin_end": 2,
            "count": 1
           }
          ]
         }
        },
        {
         "name": "co_applicant_sex",
         "dtype": "int64",
         "stats": {
          "unique_count": 2,
          "nan_count": 0,
          "min": "2",
          "max": "5",
          "histogram": [
           {
            "bin_start": 2,
            "bin_end": 2.3,
            "count": 3
           },
           {
            "bin_start": 2.3,
            "bin_end": 2.6,
            "count": 0
           },
           {
            "bin_start": 2.6,
            "bin_end": 2.9,
            "count": 0
           },
           {
            "bin_start": 2.9,
            "bin_end": 3.2,
            "count": 0
           },
           {
            "bin_start": 3.2,
            "bin_end": 3.5,
            "count": 0
           },
           {
            "bin_start": 3.5,
            "bin_end": 3.8,
            "count": 0
           },
           {
            "bin_start": 3.8,
            "bin_end": 4.1,
            "count": 0
           },
           {
            "bin_start": 4.1,
            "bin_end": 4.4,
            "count": 0
           },
           {
            "bin_start": 4.4,
            "bin_end": 4.699999999999999,
            "count": 0
           },
           {
            "bin_start": 4.699999999999999,
            "bin_end": 5,
            "count": 2
           }
          ]
         }
        },
        {
         "name": "applicant_sex_observed",
         "dtype": "int64",
         "stats": {
          "unique_count": 1,
          "nan_count": 0,
          "min": "2",
          "max": "2",
          "histogram": [
           {
            "bin_start": 1.5,
            "bin_end": 1.6,
            "count": 0
           },
           {
            "bin_start": 1.6,
            "bin_end": 1.7,
            "count": 0
           },
           {
            "bin_start": 1.7,
            "bin_end": 1.8,
            "count": 0
           },
           {
            "bin_start": 1.8,
            "bin_end": 1.9,
            "count": 0
           },
           {
            "bin_start": 1.9,
            "bin_end": 2,
            "count": 0
           },
           {
            "bin_start": 2,
            "bin_end": 2.1,
            "count": 5
           },
           {
            "bin_start": 2.1,
            "bin_end": 2.2,
            "count": 0
           },
           {
            "bin_start": 2.2,
            "bin_end": 2.3,
            "count": 0
           },
           {
            "bin_start": 2.3,
            "bin_end": 2.4,
            "count": 0
           },
           {
            "bin_start": 2.4,
            "bin_end": 2.5,
            "count": 0
           }
          ]
         }
        },
        {
         "name": "co_applicant_sex_observed",
         "dtype": "int64",
         "stats": {
          "unique_count": 2,
          "nan_count": 0,
          "min": "2",
          "max": "4",
          "histogram": [
           {
            "bin_start": 2,
            "bin_end": 2.2,
            "count": 3
           },
           {
            "bin_start": 2.2,
            "bin_end": 2.4,
            "count": 0
           },
           {
            "bin_start": 2.4,
            "bin_end": 2.6,
            "count": 0
           },
           {
            "bin_start": 2.6,
            "bin_end": 2.8,
            "count": 0
           },
           {
            "bin_start": 2.8,
            "bin_end": 3,
            "count": 0
           },
           {
            "bin_start": 3,
            "bin_end": 3.2,
            "count": 0
           },
           {
            "bin_start": 3.2,
            "bin_end": 3.4000000000000004,
            "count": 0
           },
           {
            "bin_start": 3.4000000000000004,
            "bin_end": 3.6,
            "count": 0
           },
           {
            "bin_start": 3.6,
            "bin_end": 3.8,
            "count": 0
           },
           {
            "bin_start": 3.8,
            "bin_end": 4,
            "count": 2
           }
          ]
         }
        },
        {
         "name": "applicant_age",
         "dtype": "object",
         "stats": {
          "unique_count": 2,
          "nan_count": 0,
          "categories": [
           {
            "name": "65-74",
            "count": 4
           },
           {
            "name": "35-44",
            "count": 1
           }
          ]
         }
        },
        {
         "name": "co_applicant_age",
         "dtype": "object",
         "stats": {
          "unique_count": 4,
          "nan_count": 0,
          "categories": [
           {
            "name": "9999",
            "count": 2
           },
           {
            "name": "55-64",
            "count": 1
           },
           {
            "name": "2 others",
            "count": 2
           }
          ]
         }
        },
        {
         "name": "applicant_age_above_62",
         "dtype": "object",
         "stats": {
          "unique_count": 2,
          "nan_count": 0,
          "categories": [
           {
            "name": "Yes",
            "count": 4
           },
           {
            "name": "No",
            "count": 1
           }
          ]
         }
        },
        {
         "name": "co_applicant_age_above_62",
         "dtype": "object",
         "stats": {
          "unique_count": 2,
          "nan_count": 2,
          "categories": [
           {
            "name": "Yes",
            "count": 2
           },
           {
            "name": "No",
            "count": 1
           },
           {
            "name": "Missing",
            "count": 2
           }
          ]
         }
        },
        {
         "name": "submission_of_application",
         "dtype": "int64",
         "stats": {
          "unique_count": 2,
          "nan_count": 0,
          "min": "1",
          "max": "1111",
          "histogram": [
           {
            "bin_start": 1,
            "bin_end": 112,
            "count": 4
           },
           {
            "bin_start": 112,
            "bin_end": 223,
            "count": 0
           },
           {
            "bin_start": 223,
            "bin_end": 334,
            "count": 0
           },
           {
            "bin_start": 334,
            "bin_end": 445,
            "count": 0
           },
           {
            "bin_start": 445,
            "bin_end": 556,
            "count": 0
           },
           {
            "bin_start": 556,
            "bin_end": 667,
            "count": 0
           },
           {
            "bin_start": 667,
            "bin_end": 778,
            "count": 0
           },
           {
            "bin_start": 778,
            "bin_end": 889,
            "count": 0
           },
           {
            "bin_start": 889,
            "bin_end": 1000,
            "count": 0
           },
           {
            "bin_start": 1000,
            "bin_end": 1111,
            "count": 1
           }
          ]
         }
        },
        {
         "name": "initially_payable_to_institution",
         "dtype": "int64",
         "stats": {
          "unique_count": 2,
          "nan_count": 0,
          "min": "1",
          "max": "1111",
          "histogram": [
           {
            "bin_start": 1,
            "bin_end": 112,
            "count": 4
           },
           {
            "bin_start": 112,
            "bin_end": 223,
            "count": 0
           },
           {
            "bin_start": 223,
            "bin_end": 334,
            "count": 0
           },
           {
            "bin_start": 334,
            "bin_end": 445,
            "count": 0
           },
           {
            "bin_start": 445,
            "bin_end": 556,
            "count": 0
           },
           {
            "bin_start": 556,
            "bin_end": 667,
            "count": 0
           },
           {
            "bin_start": 667,
            "bin_end": 778,
            "count": 0
           },
           {
            "bin_start": 778,
            "bin_end": 889,
            "count": 0
           },
           {
            "bin_start": 889,
            "bin_end": 1000,
            "count": 0
           },
           {
            "bin_start": 1000,
            "bin_end": 1111,
            "count": 1
           }
          ]
         }
        },
        {
         "name": "aus_1",
         "dtype": "int64",
         "stats": {
          "unique_count": 4,
          "nan_count": 0,
          "min": "1",
          "max": "1111",
          "histogram": [
           {
            "bin_start": 1,
            "bin_end": 112,
            "count": 4
           },
           {
            "bin_start": 112,
            "bin_end": 223,
            "count": 0
           },
           {
            "bin_start": 223,
            "bin_end": 334,
            "count": 0
           },
           {
            "bin_start": 334,
            "bin_end": 445,
            "count": 0
           },
           {
            "bin_start": 445,
            "bin_end": 556,
            "count": 0
           },
           {
            "bin_start": 556,
            "bin_end": 667,
            "count": 0
           },
           {
            "bin_start": 667,
            "bin_end": 778,
            "count": 0
           },
           {
            "bin_start": 778,
            "bin_end": 889,
            "count": 0
           },
           {
            "bin_start": 889,
            "bin_end": 1000,
            "count": 0
           },
           {
            "bin_start": 1000,
            "bin_end": 1111,
            "count": 1
           }
          ]
         }
        },
        {
         "name": "aus_2",
         "dtype": "float64",
         "stats": {
          "unique_count": 0,
          "nan_count": 5,
          "min": null,
          "max": null,
          "histogram": [
           {
            "bin_start": 0,
            "bin_end": 0.1,
            "count": 0
           },
           {
            "bin_start": 0.1,
            "bin_end": 0.2,
            "count": 0
           },
           {
            "bin_start": 0.2,
            "bin_end": 0.30000000000000004,
            "count": 0
           },
           {
            "bin_start": 0.30000000000000004,
            "bin_end": 0.4,
            "count": 0
           },
           {
            "bin_start": 0.4,
            "bin_end": 0.5,
            "count": 0
           },
           {
            "bin_start": 0.5,
            "bin_end": 0.6000000000000001,
            "count": 0
           },
           {
            "bin_start": 0.6000000000000001,
            "bin_end": 0.7000000000000001,
            "count": 0
           },
           {
            "bin_start": 0.7000000000000001,
            "bin_end": 0.8,
            "count": 0
           },
           {
            "bin_start": 0.8,
            "bin_end": 0.9,
            "count": 0
           },
           {
            "bin_start": 0.9,
            "bin_end": 1,
            "count": 0
           }
          ]
         }
        },
        {
         "name": "aus_3",
         "dtype": "float64",
         "stats": {
          "unique_count": 0,
          "nan_count": 5,
          "min": null,
          "max": null,
          "histogram": [
           {
            "bin_start": 0,
            "bin_end": 0.1,
            "count": 0
           },
           {
            "bin_start": 0.1,
            "bin_end": 0.2,
            "count": 0
           },
           {
            "bin_start": 0.2,
            "bin_end": 0.30000000000000004,
            "count": 0
           },
           {
            "bin_start": 0.30000000000000004,
            "bin_end": 0.4,
            "count": 0
           },
           {
            "bin_start": 0.4,
            "bin_end": 0.5,
            "count": 0
           },
           {
            "bin_start": 0.5,
            "bin_end": 0.6000000000000001,
            "count": 0
           },
           {
            "bin_start": 0.6000000000000001,
            "bin_end": 0.7000000000000001,
            "count": 0
           },
           {
            "bin_start": 0.7000000000000001,
            "bin_end": 0.8,
            "count": 0
           },
           {
            "bin_start": 0.8,
            "bin_end": 0.9,
            "count": 0
           },
           {
            "bin_start": 0.9,
            "bin_end": 1,
            "count": 0
           }
          ]
         }
        },
        {
         "name": "aus_4",
         "dtype": "float64",
         "stats": {
          "unique_count": 0,
          "nan_count": 5,
          "min": null,
          "max": null,
          "histogram": [
           {
            "bin_start": 0,
            "bin_end": 0.1,
            "count": 0
           },
           {
            "bin_start": 0.1,
            "bin_end": 0.2,
            "count": 0
           },
           {
            "bin_start": 0.2,
            "bin_end": 0.30000000000000004,
            "count": 0
           },
           {
            "bin_start": 0.30000000000000004,
            "bin_end": 0.4,
            "count": 0
           },
           {
            "bin_start": 0.4,
            "bin_end": 0.5,
            "count": 0
           },
           {
            "bin_start": 0.5,
            "bin_end": 0.6000000000000001,
            "count": 0
           },
           {
            "bin_start": 0.6000000000000001,
            "bin_end": 0.7000000000000001,
            "count": 0
           },
           {
            "bin_start": 0.7000000000000001,
            "bin_end": 0.8,
            "count": 0
           },
           {
            "bin_start": 0.8,
            "bin_end": 0.9,
            "count": 0
           },
           {
            "bin_start": 0.9,
            "bin_end": 1,
            "count": 0
           }
          ]
         }
        },
        {
         "name": "aus_5",
         "dtype": "float64",
         "stats": {
          "unique_count": 0,
          "nan_count": 5,
          "min": null,
          "max": null,
          "histogram": [
           {
            "bin_start": 0,
            "bin_end": 0.1,
            "count": 0
           },
           {
            "bin_start": 0.1,
            "bin_end": 0.2,
            "count": 0
           },
           {
            "bin_start": 0.2,
            "bin_end": 0.30000000000000004,
            "count": 0
           },
           {
            "bin_start": 0.30000000000000004,
            "bin_end": 0.4,
            "count": 0
           },
           {
            "bin_start": 0.4,
            "bin_end": 0.5,
            "count": 0
           },
           {
            "bin_start": 0.5,
            "bin_end": 0.6000000000000001,
            "count": 0
           },
           {
            "bin_start": 0.6000000000000001,
            "bin_end": 0.7000000000000001,
            "count": 0
           },
           {
            "bin_start": 0.7000000000000001,
            "bin_end": 0.8,
            "count": 0
           },
           {
            "bin_start": 0.8,
            "bin_end": 0.9,
            "count": 0
           },
           {
            "bin_start": 0.9,
            "bin_end": 1,
            "count": 0
           }
          ]
         }
        },
        {
         "name": "denial_reason_1",
         "dtype": "int64",
         "stats": {
          "unique_count": 3,
          "nan_count": 0,
          "min": "1",
          "max": "1111",
          "histogram": [
           {
            "bin_start": 1,
            "bin_end": 112,
            "count": 4
           },
           {
            "bin_start": 112,
            "bin_end": 223,
            "count": 0
           },
           {
            "bin_start": 223,
            "bin_end": 334,
            "count": 0
           },
           {
            "bin_start": 334,
            "bin_end": 445,
            "count": 0
           },
           {
            "bin_start": 445,
            "bin_end": 556,
            "count": 0
           },
           {
            "bin_start": 556,
            "bin_end": 667,
            "count": 0
           },
           {
            "bin_start": 667,
            "bin_end": 778,
            "count": 0
           },
           {
            "bin_start": 778,
            "bin_end": 889,
            "count": 0
           },
           {
            "bin_start": 889,
            "bin_end": 1000,
            "count": 0
           },
           {
            "bin_start": 1000,
            "bin_end": 1111,
            "count": 1
           }
          ]
         }
        },
        {
         "name": "denial_reason_2",
         "dtype": "float64",
         "stats": {
          "unique_count": 0,
          "nan_count": 5,
          "min": null,
          "max": null,
          "histogram": [
           {
            "bin_start": 0,
            "bin_end": 0.1,
            "count": 0
           },
           {
            "bin_start": 0.1,
            "bin_end": 0.2,
            "count": 0
           },
           {
            "bin_start": 0.2,
            "bin_end": 0.30000000000000004,
            "count": 0
           },
           {
            "bin_start": 0.30000000000000004,
            "bin_end": 0.4,
            "count": 0
           },
           {
            "bin_start": 0.4,
            "bin_end": 0.5,
            "count": 0
           },
           {
            "bin_start": 0.5,
            "bin_end": 0.6000000000000001,
            "count": 0
           },
           {
            "bin_start": 0.6000000000000001,
            "bin_end": 0.7000000000000001,
            "count": 0
           },
           {
            "bin_start": 0.7000000000000001,
            "bin_end": 0.8,
            "count": 0
           },
           {
            "bin_start": 0.8,
            "bin_end": 0.9,
            "count": 0
           },
           {
            "bin_start": 0.9,
            "bin_end": 1,
            "count": 0
           }
          ]
         }
        },
        {
         "name": "denial_reason_3",
         "dtype": "float64",
         "stats": {
          "unique_count": 0,
          "nan_count": 5,
          "min": null,
          "max": null,
          "histogram": [
           {
            "bin_start": 0,
            "bin_end": 0.1,
            "count": 0
           },
           {
            "bin_start": 0.1,
            "bin_end": 0.2,
            "count": 0
           },
           {
            "bin_start": 0.2,
            "bin_end": 0.30000000000000004,
            "count": 0
           },
           {
            "bin_start": 0.30000000000000004,
            "bin_end": 0.4,
            "count": 0
           },
           {
            "bin_start": 0.4,
            "bin_end": 0.5,
            "count": 0
           },
           {
            "bin_start": 0.5,
            "bin_end": 0.6000000000000001,
            "count": 0
           },
           {
            "bin_start": 0.6000000000000001,
            "bin_end": 0.7000000000000001,
            "count": 0
           },
           {
            "bin_start": 0.7000000000000001,
            "bin_end": 0.8,
            "count": 0
           },
           {
            "bin_start": 0.8,
            "bin_end": 0.9,
            "count": 0
           },
           {
            "bin_start": 0.9,
            "bin_end": 1,
            "count": 0
           }
          ]
         }
        },
        {
         "name": "denial_reason_4",
         "dtype": "float64",
         "stats": {
          "unique_count": 0,
          "nan_count": 5,
          "min": null,
          "max": null,
          "histogram": [
           {
            "bin_start": 0,
            "bin_end": 0.1,
            "count": 0
           },
           {
            "bin_start": 0.1,
            "bin_end": 0.2,
            "count": 0
           },
           {
            "bin_start": 0.2,
            "bin_end": 0.30000000000000004,
            "count": 0
           },
           {
            "bin_start": 0.30000000000000004,
            "bin_end": 0.4,
            "count": 0
           },
           {
            "bin_start": 0.4,
            "bin_end": 0.5,
            "count": 0
           },
           {
            "bin_start": 0.5,
            "bin_end": 0.6000000000000001,
            "count": 0
           },
           {
            "bin_start": 0.6000000000000001,
            "bin_end": 0.7000000000000001,
            "count": 0
           },
           {
            "bin_start": 0.7000000000000001,
            "bin_end": 0.8,
            "count": 0
           },
           {
            "bin_start": 0.8,
            "bin_end": 0.9,
            "count": 0
           },
           {
            "bin_start": 0.9,
            "bin_end": 1,
            "count": 0
           }
          ]
         }
        },
        {
         "name": "tract_population",
         "dtype": "int64",
         "stats": {
          "unique_count": 5,
          "nan_count": 0,
          "min": "4719",
          "max": "11924",
          "histogram": [
           {
            "bin_start": 4719,
            "bin_end": 5439.5,
            "count": 1
           },
           {
            "bin_start": 5439.5,
            "bin_end": 6160,
            "count": 0
           },
           {
            "bin_start": 6160,
            "bin_end": 6880.5,
            "count": 1
           },
           {
            "bin_start": 6880.5,
            "bin_end": 7601,
            "count": 2
           },
           {
            "bin_start": 7601,
            "bin_end": 8321.5,
            "count": 0
           },
           {
            "bin_start": 8321.5,
            "bin_end": 9042,
            "count": 0
           },
           {
            "bin_start": 9042,
            "bin_end": 9762.5,
            "count": 0
           },
           {
            "bin_start": 9762.5,
            "bin_end": 10483,
            "count": 0
           },
           {
            "bin_start": 10483,
            "bin_end": 11203.5,
            "count": 0
           },
           {
            "bin_start": 11203.5,
            "bin_end": 11924,
            "count": 1
           }
          ]
         }
        },
        {
         "name": "tract_minority_population_percent",
         "dtype": "float64",
         "stats": {
          "unique_count": 5,
          "nan_count": 0,
          "min": "6.42",
          "max": "96.76",
          "histogram": [
           {
            "bin_start": 6.42,
            "bin_end": 15.454,
            "count": 2
           },
           {
            "bin_start": 15.454,
            "bin_end": 24.488,
            "count": 0
           },
           {
            "bin_start": 24.488,
            "bin_end": 33.522000000000006,
            "count": 1
           },
           {
            "bin_start": 33.522000000000006,
            "bin_end": 42.556000000000004,
            "count": 0
           },
           {
            "bin_start": 42.556000000000004,
            "bin_end": 51.59,
            "count": 0
           },
           {
            "bin_start": 51.59,
            "bin_end": 60.62400000000001,
            "count": 1
           },
           {
            "bin_start": 60.62400000000001,
            "bin_end": 69.658,
            "count": 0
           },
           {
            "bin_start": 69.658,
            "bin_end": 78.69200000000001,
            "count": 0
           },
           {
            "bin_start": 78.69200000000001,
            "bin_end": 87.72600000000001,
            "count": 0
           },
           {
            "bin_start": 87.72600000000001,
            "bin_end": 96.76,
            "count": 1
           }
          ]
         }
        },
        {
         "name": "ffiec_msa_md_median_family_income",
         "dtype": "int64",
         "stats": {
          "unique_count": 5,
          "nan_count": 0,
          "min": "64000",
          "max": "74400",
          "histogram": [
           {
            "bin_start": 64000,
            "bin_end": 65040,
            "count": 1
           },
           {
            "bin_start": 65040,
            "bin_end": 66080,
            "count": 0
           },
           {
            "bin_start": 66080,
            "bin_end": 67120,
            "count": 0
           },
           {
            "bin_start": 67120,
            "bin_end": 68160,
            "count": 0
           },
           {
            "bin_start": 68160,
            "bin_end": 69200,
            "count": 1
           },
           {
            "bin_start": 69200,
            "bin_end": 70240,
            "count": 1
           },
           {
            "bin_start": 70240,
            "bin_end": 71280,
            "count": 1
           },
           {
            "bin_start": 71280,
            "bin_end": 72320,
            "count": 0
           },
           {
            "bin_start": 72320,
            "bin_end": 73360,
            "count": 0
           },
           {
            "bin_start": 73360,
            "bin_end": 74400,
            "count": 1
           }
          ]
         }
        },
        {
         "name": "tract_to_msa_income_percentage",
         "dtype": "int64",
         "stats": {
          "unique_count": 5,
          "nan_count": 0,
          "min": "65",
          "max": "161",
          "histogram": [
           {
            "bin_start": 65,
            "bin_end": 74.6,
            "count": 1
           },
           {
            "bin_start": 74.6,
            "bin_end": 84.2,
            "count": 0
           },
           {
            "bin_start": 84.2,
            "bin_end": 93.8,
            "count": 0
           },
           {
            "bin_start": 93.8,
            "bin_end": 103.4,
            "count": 0
           },
           {
            "bin_start": 103.4,
            "bin_end": 113,
            "count": 0
           },
           {
            "bin_start": 113,
            "bin_end": 122.6,
            "count": 0
           },
           {
            "bin_start": 122.6,
            "bin_end": 132.2,
            "count": 2
           },
           {
            "bin_start": 132.2,
            "bin_end": 141.8,
            "count": 1
           },
           {
            "bin_start": 141.8,
            "bin_end": 151.39999999999998,
            "count": 0
           },
           {
            "bin_start": 151.39999999999998,
            "bin_end": 161,
            "count": 1
           }
          ]
         }
        },
        {
         "name": "tract_owner_occupied_units",
         "dtype": "int64",
         "stats": {
          "unique_count": 5,
          "nan_count": 0,
          "min": "885",
          "max": "3082",
          "histogram": [
           {
            "bin_start": 885,
            "bin_end": 1104.7,
            "count": 1
           },
           {
            "bin_start": 1104.7,
            "bin_end": 1324.4,
            "count": 0
           },
           {
            "bin_start": 1324.4,
            "bin_end": 1544.1,
            "count": 1
           },
           {
            "bin_start": 1544.1,
            "bin_end": 1763.8,
            "count": 0
           },
           {
            "bin_start": 1763.8,
            "bin_end": 1983.5,
            "count": 1
           },
           {
            "bin_start": 1983.5,
            "bin_end": 2203.2,
            "count": 1
           },
           {
            "bin_start": 2203.2,
            "bin_end": 2422.8999999999996,
            "count": 0
           },
           {
            "bin_start": 2422.8999999999996,
            "bin_end": 2642.6,
            "count": 0
           },
           {
            "bin_start": 2642.6,
            "bin_end": 2862.3,
            "count": 0
           },
           {
            "bin_start": 2862.3,
            "bin_end": 3082,
            "count": 1
           }
          ]
         }
        },
        {
         "name": "tract_one_to_four_family_homes",
         "dtype": "int64",
         "stats": {
          "unique_count": 5,
          "nan_count": 0,
          "min": "1363",
          "max": "3775",
          "histogram": [
           {
            "bin_start": 1363,
            "bin_end": 1604.2,
            "count": 1
           },
           {
            "bin_start": 1604.2,
            "bin_end": 1845.4,
            "count": 1
           },
           {
            "bin_start": 1845.4,
            "bin_end": 2086.6,
            "count": 0
           },
           {
            "bin_start": 2086.6,
            "bin_end": 2327.8,
            "count": 0
           },
           {
            "bin_start": 2327.8,
            "bin_end": 2569,
            "count": 2
           },
           {
            "bin_start": 2569,
            "bin_end": 2810.2,
            "count": 0
           },
           {
            "bin_start": 2810.2,
            "bin_end": 3051.3999999999996,
            "count": 0
           },
           {
            "bin_start": 3051.3999999999996,
            "bin_end": 3292.6,
            "count": 0
           },
           {
            "bin_start": 3292.6,
            "bin_end": 3533.7999999999997,
            "count": 0
           },
           {
            "bin_start": 3533.7999999999997,
            "bin_end": 3775,
            "count": 1
           }
          ]
         }
        },
        {
         "name": "tract_median_age_of_housing_units",
         "dtype": "int64",
         "stats": {
          "unique_count": 4,
          "nan_count": 0,
          "min": "13",
          "max": "51",
          "histogram": [
           {
            "bin_start": 13,
            "bin_end": 16.8,
            "count": 2
           },
           {
            "bin_start": 16.8,
            "bin_end": 20.6,
            "count": 0
           },
           {
            "bin_start": 20.6,
            "bin_end": 24.4,
            "count": 1
           },
           {
            "bin_start": 24.4,
            "bin_end": 28.2,
            "count": 0
           },
           {
            "bin_start": 28.2,
            "bin_end": 32,
            "count": 0
           },
           {
            "bin_start": 32,
            "bin_end": 35.8,
            "count": 1
           },
           {
            "bin_start": 35.8,
            "bin_end": 39.599999999999994,
            "count": 0
           },
           {
            "bin_start": 39.599999999999994,
            "bin_end": 43.4,
            "count": 0
           },
           {
            "bin_start": 43.4,
            "bin_end": 47.199999999999996,
            "count": 0
           },
           {
            "bin_start": 47.199999999999996,
            "bin_end": 51,
            "count": 1
           }
          ]
         }
        },
        {
         "name": "_deepnote_index_column",
         "dtype": "int64"
        }
       ],
       "rows": [
        {
         "activity_year": 2018,
         "lei": "5493002QI2ILHHZH8D20",
         "derived_msa_md": 31084,
         "state_code": "CA",
         "county_code": 6037,
         "census_tract": 6037603001,
         "conforming_loan_limit": "C",
         "derived_loan_product_type": "Conventional:First Lien",
         "derived_dwelling_category": "Single Family (1-4 Units):Site-Built",
         "derived_ethnicity": "Not Hispanic or Latino",
         "derived_race": "Asian",
         "derived_sex": "Joint",
         "action_taken": 3,
         "purchaser_type": 0,
         "preapproval": 2,
         "loan_type": 1,
         "loan_purpose": 1,
         "lien_status": 1,
         "reverse_mortgage": 2,
         "open_end_line_of_credit": 2,
         "business_or_commercial_purpose": 2,
         "loan_amount": 545000,
         "loan_to_value_ratio": "80",
         "interest_rate": "nan",
         "rate_spread": "nan",
         "hoepa_status": 3,
         "total_loan_costs": "nan",
         "total_points_and_fees": "nan",
         "origination_charges": "nan",
         "discount_points": "nan",
         "lender_credits": "nan",
         "loan_term": "360",
         "prepayment_penalty_term": "nan",
         "intro_rate_period": "nan",
         "negative_amortization": 2,
         "interest_only_payment": 2,
         "balloon_payment": 2,
         "other_nonamortizing_features": 2,
         "property_value": "675000",
         "construction_method": 1,
         "occupancy_type": 1,
         "manufactured_home_secured_property_type": 3,
         "manufactured_home_land_property_interest": 5,
         "total_units": "1",
         "multifamily_affordable_units": "nan",
         "income": 162,
         "debt_to_income_ratio": "50%-60%",
         "applicant_credit_score_type": 1,
         "co_applicant_credit_score_type": 1,
         "applicant_ethnicity_1": 2,
         "applicant_ethnicity_2": "nan",
         "applicant_ethnicity_3": "nan",
         "applicant_ethnicity_4": "nan",
         "applicant_ethnicity_5": "nan",
         "co_applicant_ethnicity_1": 2,
         "co_applicant_ethnicity_2": "nan",
         "co_applicant_ethnicity_3": "nan",
         "co_applicant_ethnicity_4": "nan",
         "co_applicant_ethnicity_5": "nan",
         "applicant_ethnicity_observed": 2,
         "co_applicant_ethnicity_observed": 2,
         "applicant_race_1": 2,
         "applicant_race_2": 22,
         "applicant_race_3": "nan",
         "applicant_race_4": "nan",
         "applicant_race_5": "nan",
         "co_applicant_race_1": 2,
         "co_applicant_race_2": 22,
         "co_applicant_race_3": "nan",
         "co_applicant_race_4": "nan",
         "co_applicant_race_5": "nan",
         "applicant_race_observed": 2,
         "co_applicant_race_observed": 2,
         "applicant_sex": 1,
         "co_applicant_sex": 2,
         "applicant_sex_observed": 2,
         "co_applicant_sex_observed": 2,
         "applicant_age": "65-74",
         "co_applicant_age": "55-64",
         "applicant_age_above_62": "Yes",
         "co_applicant_age_above_62": "Yes",
         "submission_of_application": 1,
         "initially_payable_to_institution": 1,
         "aus_1": 1,
         "aus_2": "nan",
         "aus_3": "nan",
         "aus_4": "nan",
         "aus_5": "nan",
         "denial_reason_1": 1,
         "denial_reason_2": "nan",
         "denial_reason_3": "nan",
         "denial_reason_4": "nan",
         "tract_population": 7029,
         "tract_minority_population_percent": 96.76,
         "ffiec_msa_md_median_family_income": 69300,
         "tract_to_msa_income_percentage": 65,
         "tract_owner_occupied_units": 885,
         "tract_one_to_four_family_homes": 1363,
         "tract_median_age_of_housing_units": 51,
         "_deepnote_index_column": 0
        },
        {
         "activity_year": 2018,
         "lei": "549300ALNLUNS3Y53T24",
         "derived_msa_md": 44060,
         "state_code": "WA",
         "county_code": 53063,
         "census_tract": 53063011300,
         "conforming_loan_limit": "C",
         "derived_loan_product_type": "Conventional:First Lien",
         "derived_dwelling_category": "Single Family (1-4 Units):Site-Built",
         "derived_ethnicity": "Not Hispanic or Latino",
         "derived_race": "White",
         "derived_sex": "Female",
         "action_taken": 1,
         "purchaser_type": 3,
         "preapproval": 2,
         "loan_type": 1,
         "loan_purpose": 32,
         "lien_status": 1,
         "reverse_mortgage": 2,
         "open_end_line_of_credit": 2,
         "business_or_commercial_purpose": 2,
         "loan_amount": 115000,
         "loan_to_value_ratio": "39",
         "interest_rate": "5.125",
         "rate_spread": "0.689",
         "hoepa_status": 2,
         "total_loan_costs": "3367",
         "total_points_and_fees": "nan",
         "origination_charges": "1758",
         "discount_points": "nan",
         "lender_credits": "nan",
         "loan_term": "360",
         "prepayment_penalty_term": "nan",
         "intro_rate_period": "nan",
         "negative_amortization": 2,
         "interest_only_payment": 2,
         "balloon_payment": 2,
         "other_nonamortizing_features": 2,
         "property_value": "285000",
         "construction_method": 1,
         "occupancy_type": 1,
         "manufactured_home_secured_property_type": 3,
         "manufactured_home_land_property_interest": 5,
         "total_units": "1",
         "multifamily_affordable_units": "nan",
         "income": 25,
         "debt_to_income_ratio": "44",
         "applicant_credit_score_type": 2,
         "co_applicant_credit_score_type": 10,
         "applicant_ethnicity_1": 2,
         "applicant_ethnicity_2": "nan",
         "applicant_ethnicity_3": "nan",
         "applicant_ethnicity_4": "nan",
         "applicant_ethnicity_5": "nan",
         "co_applicant_ethnicity_1": 5,
         "co_applicant_ethnicity_2": "nan",
         "co_applicant_ethnicity_3": "nan",
         "co_applicant_ethnicity_4": "nan",
         "co_applicant_ethnicity_5": "nan",
         "applicant_ethnicity_observed": 2,
         "co_applicant_ethnicity_observed": 4,
         "applicant_race_1": 5,
         "applicant_race_2": "nan",
         "applicant_race_3": "nan",
         "applicant_race_4": "nan",
         "applicant_race_5": "nan",
         "co_applicant_race_1": 8,
         "co_applicant_race_2": "nan",
         "co_applicant_race_3": "nan",
         "co_applicant_race_4": "nan",
         "co_applicant_race_5": "nan",
         "applicant_race_observed": 2,
         "co_applicant_race_observed": 4,
         "applicant_sex": 2,
         "co_applicant_sex": 5,
         "applicant_sex_observed": 2,
         "co_applicant_sex_observed": 4,
         "applicant_age": "65-74",
         "co_applicant_age": "9999",
         "applicant_age_above_62": "Yes",
         "co_applicant_age_above_62": "nan",
         "submission_of_application": 1,
         "initially_payable_to_institution": 1,
         "aus_1": 6,
         "aus_2": "nan",
         "aus_3": "nan",
         "aus_4": "nan",
         "aus_5": "nan",
         "denial_reason_1": 10,
         "denial_reason_2": "nan",
         "denial_reason_3": "nan",
         "denial_reason_4": "nan",
         "tract_population": 7568,
         "tract_minority_population_percent": 11.19,
         "ffiec_msa_md_median_family_income": 64000,
         "tract_to_msa_income_percentage": 138,
         "tract_owner_occupied_units": 2002,
         "tract_one_to_four_family_homes": 2338,
         "tract_median_age_of_housing_units": 22,
         "_deepnote_index_column": 1
        },
        {
         "activity_year": 2018,
         "lei": "549300PUSSF737Y6XW86",
         "derived_msa_md": 12060,
         "state_code": "GA",
         "county_code": 13223,
         "census_tract": 13223120102,
         "conforming_loan_limit": "C",
         "derived_loan_product_type": "Conventional:First Lien",
         "derived_dwelling_category": "Single Family (1-4 Units):Site-Built",
         "derived_ethnicity": "Not Hispanic or Latino",
         "derived_race": "White",
         "derived_sex": "Joint",
         "action_taken": 1,
         "purchaser_type": 3,
         "preapproval": 2,
         "loan_type": 1,
         "loan_purpose": 4,
         "lien_status": 1,
         "reverse_mortgage": 2,
         "open_end_line_of_credit": 2,
         "business_or_commercial_purpose": 2,
         "loan_amount": 105000,
         "loan_to_value_ratio": "37.594",
         "interest_rate": "4.625",
         "rate_spread": "0.148",
         "hoepa_status": 2,
         "total_loan_costs": "1577.5",
         "total_points_and_fees": "nan",
         "origination_charges": "0",
         "discount_points": "nan",
         "lender_credits": "nan",
         "loan_term": "360",
         "prepayment_penalty_term": "nan",
         "intro_rate_period": "nan",
         "negative_amortization": 2,
         "interest_only_payment": 2,
         "balloon_payment": 2,
         "other_nonamortizing_features": 2,
         "property_value": "265000",
         "construction_method": 1,
         "occupancy_type": 1,
         "manufactured_home_secured_property_type": 3,
         "manufactured_home_land_property_interest": 5,
         "total_units": "1",
         "multifamily_affordable_units": "nan",
         "income": 33,
         "debt_to_income_ratio": "44",
         "applicant_credit_score_type": 3,
         "co_applicant_credit_score_type": 9,
         "applicant_ethnicity_1": 2,
         "applicant_ethnicity_2": "nan",
         "applicant_ethnicity_3": "nan",
         "applicant_ethnicity_4": "nan",
         "applicant_ethnicity_5": "nan",
         "co_applicant_ethnicity_1": 2,
         "co_applicant_ethnicity_2": "nan",
         "co_applicant_ethnicity_3": "nan",
         "co_applicant_ethnicity_4": "nan",
         "co_applicant_ethnicity_5": "nan",
         "applicant_ethnicity_observed": 2,
         "co_applicant_ethnicity_observed": 2,
         "applicant_race_1": 5,
         "applicant_race_2": "nan",
         "applicant_race_3": "nan",
         "applicant_race_4": "nan",
         "applicant_race_5": "nan",
         "co_applicant_race_1": 5,
         "co_applicant_race_2": "nan",
         "co_applicant_race_3": "nan",
         "co_applicant_race_4": "nan",
         "co_applicant_race_5": "nan",
         "applicant_race_observed": 2,
         "co_applicant_race_observed": 2,
         "applicant_sex": 1,
         "co_applicant_sex": 2,
         "applicant_sex_observed": 2,
         "co_applicant_sex_observed": 2,
         "applicant_age": "65-74",
         "co_applicant_age": "65-74",
         "applicant_age_above_62": "Yes",
         "co_applicant_age_above_62": "Yes",
         "submission_of_application": 1,
         "initially_payable_to_institution": 1,
         "aus_1": 2,
         "aus_2": "nan",
         "aus_3": "nan",
         "aus_4": "nan",
         "aus_5": "nan",
         "denial_reason_1": 10,
         "denial_reason_2": "nan",
         "denial_reason_3": "nan",
         "denial_reason_4": "nan",
         "tract_population": 11924,
         "tract_minority_population_percent": 26.72,
         "ffiec_msa_md_median_family_income": 74400,
         "tract_to_msa_income_percentage": 125,
         "tract_owner_occupied_units": 3082,
         "tract_one_to_four_family_homes": 3775,
         "tract_median_age_of_housing_units": 13,
         "_deepnote_index_column": 2
        },
        {
         "activity_year": 2018,
         "lei": "JJKC32MCHWDI71265Z06",
         "derived_msa_md": 17900,
         "state_code": "SC",
         "county_code": 45079,
         "census_tract": 45079010102,
         "conforming_loan_limit": "C",
         "derived_loan_product_type": "Conventional:First Lien",
         "derived_dwelling_category": "Single Family (1-4 Units):Site-Built",
         "derived_ethnicity": "Not Hispanic or Latino",
         "derived_race": "White",
         "derived_sex": "Male",
         "action_taken": 1,
         "purchaser_type": 0,
         "preapproval": 2,
         "loan_type": 1,
         "loan_purpose": 1,
         "lien_status": 1,
         "reverse_mortgage": 2,
         "open_end_line_of_credit": 2,
         "business_or_commercial_purpose": 2,
         "loan_amount": 185000,
         "loan_to_value_ratio": "39.98",
         "interest_rate": "3.875",
         "rate_spread": "0.214",
         "hoepa_status": 2,
         "total_loan_costs": "5592.75",
         "total_points_and_fees": "nan",
         "origination_charges": "1445",
         "discount_points": "nan",
         "lender_credits": "235.14",
         "loan_term": "372",
         "prepayment_penalty_term": "nan",
         "intro_rate_period": "120",
         "negative_amortization": 2,
         "interest_only_payment": 1,
         "balloon_payment": 2,
         "other_nonamortizing_features": 2,
         "property_value": "465000",
         "construction_method": 1,
         "occupancy_type": 1,
         "manufactured_home_secured_property_type": 3,
         "manufactured_home_land_property_interest": 5,
         "total_units": "1",
         "multifamily_affordable_units": "nan",
         "income": 39,
         "debt_to_income_ratio": "42",
         "applicant_credit_score_type": 1,
         "co_applicant_credit_score_type": 10,
         "applicant_ethnicity_1": 2,
         "applicant_ethnicity_2": "nan",
         "applicant_ethnicity_3": "nan",
         "applicant_ethnicity_4": "nan",
         "applicant_ethnicity_5": "nan",
         "co_applicant_ethnicity_1": 5,
         "co_applicant_ethnicity_2": "nan",
         "co_applicant_ethnicity_3": "nan",
         "co_applicant_ethnicity_4": "nan",
         "co_applicant_ethnicity_5": "nan",
         "applicant_ethnicity_observed": 2,
         "co_applicant_ethnicity_observed": 4,
         "applicant_race_1": 5,
         "applicant_race_2": "nan",
         "applicant_race_3": "nan",
         "applicant_race_4": "nan",
         "applicant_race_5": "nan",
         "co_applicant_race_1": 8,
         "co_applicant_race_2": "nan",
         "co_applicant_race_3": "nan",
         "co_applicant_race_4": "nan",
         "co_applicant_race_5": "nan",
         "applicant_race_observed": 2,
         "co_applicant_race_observed": 4,
         "applicant_sex": 1,
         "co_applicant_sex": 5,
         "applicant_sex_observed": 2,
         "co_applicant_sex_observed": 4,
         "applicant_age": "65-74",
         "co_applicant_age": "9999",
         "applicant_age_above_62": "Yes",
         "co_applicant_age_above_62": "nan",
         "submission_of_application": 1,
         "initially_payable_to_institution": 1,
         "aus_1": 6,
         "aus_2": "nan",
         "aus_3": "nan",
         "aus_4": "nan",
         "aus_5": "nan",
         "denial_reason_1": 10,
         "denial_reason_2": "nan",
         "denial_reason_3": "nan",
         "denial_reason_4": "nan",
         "tract_population": 6860,
         "tract_minority_population_percent": 53.85,
         "ffiec_msa_md_median_family_income": 68800,
         "tract_to_msa_income_percentage": 128,
         "tract_owner_occupied_units": 1815,
         "tract_one_to_four_family_homes": 2465,
         "tract_median_age_of_housing_units": 13,
         "_deepnote_index_column": 3
        },
        {
         "activity_year": 2018,
         "lei": "5493002UNUIL8WHZAD63",
         "derived_msa_md": 31140,
         "state_code": "KY",
         "county_code": 21185,
         "census_tract": 21185030802,
         "conforming_loan_limit": "C",
         "derived_loan_product_type": "Conventional:First Lien",
         "derived_dwelling_category": "Single Family (1-4 Units):Site-Built",
         "derived_ethnicity": "Not Hispanic or Latino",
         "derived_race": "White",
         "derived_sex": "Joint",
         "action_taken": 3,
         "purchaser_type": 0,
         "preapproval": 2,
         "loan_type": 1,
         "loan_purpose": 31,
         "lien_status": 1,
         "reverse_mortgage": 1111,
         "open_end_line_of_credit": 1111,
         "business_or_commercial_purpose": 1111,
         "loan_amount": 235000,
         "loan_to_value_ratio": "Exempt",
         "interest_rate": "Exempt",
         "rate_spread": "Exempt",
         "hoepa_status": 3,
         "total_loan_costs": "Exempt",
         "total_points_and_fees": "Exempt",
         "origination_charges": "Exempt",
         "discount_points": "Exempt",
         "lender_credits": "Exempt",
         "loan_term": "Exempt",
         "prepayment_penalty_term": "Exempt",
         "intro_rate_period": "Exempt",
         "negative_amortization": 1111,
         "interest_only_payment": 1111,
         "balloon_payment": 1111,
         "other_nonamortizing_features": 1111,
         "property_value": "Exempt",
         "construction_method": 1,
         "occupancy_type": 1,
         "manufactured_home_secured_property_type": 1111,
         "manufactured_home_land_property_interest": 1111,
         "total_units": "1",
         "multifamily_affordable_units": "Exempt",
         "income": 185,
         "debt_to_income_ratio": "Exempt",
         "applicant_credit_score_type": 1111,
         "co_applicant_credit_score_type": 1111,
         "applicant_ethnicity_1": 2,
         "applicant_ethnicity_2": "nan",
         "applicant_ethnicity_3": "nan",
         "applicant_ethnicity_4": "nan",
         "applicant_ethnicity_5": "nan",
         "co_applicant_ethnicity_1": 2,
         "co_applicant_ethnicity_2": "nan",
         "co_applicant_ethnicity_3": "nan",
         "co_applicant_ethnicity_4": "nan",
         "co_applicant_ethnicity_5": "nan",
         "applicant_ethnicity_observed": 2,
         "co_applicant_ethnicity_observed": 2,
         "applicant_race_1": 5,
         "applicant_race_2": "nan",
         "applicant_race_3": "nan",
         "applicant_race_4": "nan",
         "applicant_race_5": "nan",
         "co_applicant_race_1": 5,
         "co_applicant_race_2": "nan",
         "co_applicant_race_3": "nan",
         "co_applicant_race_4": "nan",
         "co_applicant_race_5": "nan",
         "applicant_race_observed": 2,
         "co_applicant_race_observed": 2,
         "applicant_sex": 1,
         "co_applicant_sex": 2,
         "applicant_sex_observed": 2,
         "co_applicant_sex_observed": 2,
         "applicant_age": "35-44",
         "co_applicant_age": "35-44",
         "applicant_age_above_62": "No",
         "co_applicant_age_above_62": "No",
         "submission_of_application": 1111,
         "initially_payable_to_institution": 1111,
         "aus_1": 1111,
         "aus_2": "nan",
         "aus_3": "nan",
         "aus_4": "nan",
         "aus_5": "nan",
         "denial_reason_1": 1111,
         "denial_reason_2": "nan",
         "denial_reason_3": "nan",
         "denial_reason_4": "nan",
         "tract_population": 4719,
         "tract_minority_population_percent": 6.42,
         "ffiec_msa_md_median_family_income": 70400,
         "tract_to_msa_income_percentage": 161,
         "tract_owner_occupied_units": 1412,
         "tract_one_to_four_family_homes": 1616,
         "tract_median_age_of_housing_units": 33,
         "_deepnote_index_column": 4
        }
       ]
      },
      "text/plain": "   activity_year                   lei  derived_msa_md state_code  \\\n0           2018  5493002QI2ILHHZH8D20           31084         CA   \n1           2018  549300ALNLUNS3Y53T24           44060         WA   \n2           2018  549300PUSSF737Y6XW86           12060         GA   \n3           2018  JJKC32MCHWDI71265Z06           17900         SC   \n4           2018  5493002UNUIL8WHZAD63           31140         KY   \n\n   county_code  census_tract conforming_loan_limit derived_loan_product_type  \\\n0       6037.0  6.037603e+09                     C   Conventional:First Lien   \n1      53063.0  5.306301e+10                     C   Conventional:First Lien   \n2      13223.0  1.322312e+10                     C   Conventional:First Lien   \n3      45079.0  4.507901e+10                     C   Conventional:First Lien   \n4      21185.0  2.118503e+10                     C   Conventional:First Lien   \n\n              derived_dwelling_category       derived_ethnicity  ...  \\\n0  Single Family (1-4 Units):Site-Built  Not Hispanic or Latino  ...   \n1  Single Family (1-4 Units):Site-Built  Not Hispanic or Latino  ...   \n2  Single Family (1-4 Units):Site-Built  Not Hispanic or Latino  ...   \n3  Single Family (1-4 Units):Site-Built  Not Hispanic or Latino  ...   \n4  Single Family (1-4 Units):Site-Built  Not Hispanic or Latino  ...   \n\n  denial_reason_2 denial_reason_3  denial_reason_4  tract_population  \\\n0             NaN             NaN              NaN              7029   \n1             NaN             NaN              NaN              7568   \n2             NaN             NaN              NaN             11924   \n3             NaN             NaN              NaN              6860   \n4             NaN             NaN              NaN              4719   \n\n   tract_minority_population_percent  ffiec_msa_md_median_family_income  \\\n0                              96.76                              69300   \n1                              11.19                              64000   \n2                              26.72                              74400   \n3                              53.85                              68800   \n4                               6.42                              70400   \n\n   tract_to_msa_income_percentage  tract_owner_occupied_units  \\\n0                              65                         885   \n1                             138                        2002   \n2                             125                        3082   \n3                             128                        1815   \n4                             161                        1412   \n\n   tract_one_to_four_family_homes  tract_median_age_of_housing_units  \n0                            1363                                 51  \n1                            2338                                 22  \n2                            3775                                 13  \n3                            2465                                 13  \n4                            1616                                 33  \n\n[5 rows x 99 columns]",
      "text/html": "<div>\n<style scoped>\n    .dataframe tbody tr th:only-of-type {\n        vertical-align: middle;\n    }\n\n    .dataframe tbody tr th {\n        vertical-align: top;\n    }\n\n    .dataframe thead th {\n        text-align: right;\n    }\n</style>\n<table border=\"1\" class=\"dataframe\">\n  <thead>\n    <tr style=\"text-align: right;\">\n      <th></th>\n      <th>activity_year</th>\n      <th>lei</th>\n      <th>derived_msa_md</th>\n      <th>state_code</th>\n      <th>county_code</th>\n      <th>census_tract</th>\n      <th>conforming_loan_limit</th>\n      <th>derived_loan_product_type</th>\n      <th>derived_dwelling_category</th>\n      <th>derived_ethnicity</th>\n      <th>...</th>\n      <th>denial_reason_2</th>\n      <th>denial_reason_3</th>\n      <th>denial_reason_4</th>\n      <th>tract_population</th>\n      <th>tract_minority_population_percent</th>\n      <th>ffiec_msa_md_median_family_income</th>\n      <th>tract_to_msa_income_percentage</th>\n      <th>tract_owner_occupied_units</th>\n      <th>tract_one_to_four_family_homes</th>\n      <th>tract_median_age_of_housing_units</th>\n    </tr>\n  </thead>\n  <tbody>\n    <tr>\n      <th>0</th>\n      <td>2018</td>\n      <td>5493002QI2ILHHZH8D20</td>\n      <td>31084</td>\n      <td>CA</td>\n      <td>6037.0</td>\n      <td>6.037603e+09</td>\n      <td>C</td>\n      <td>Conventional:First Lien</td>\n      <td>Single Family (1-4 Units):Site-Built</td>\n      <td>Not Hispanic or Latino</td>\n      <td>...</td>\n      <td>NaN</td>\n      <td>NaN</td>\n      <td>NaN</td>\n      <td>7029</td>\n      <td>96.76</td>\n      <td>69300</td>\n      <td>65</td>\n      <td>885</td>\n      <td>1363</td>\n      <td>51</td>\n    </tr>\n    <tr>\n      <th>1</th>\n      <td>2018</td>\n      <td>549300ALNLUNS3Y53T24</td>\n      <td>44060</td>\n      <td>WA</td>\n      <td>53063.0</td>\n      <td>5.306301e+10</td>\n      <td>C</td>\n      <td>Conventional:First Lien</td>\n      <td>Single Family (1-4 Units):Site-Built</td>\n      <td>Not Hispanic or Latino</td>\n      <td>...</td>\n      <td>NaN</td>\n      <td>NaN</td>\n      <td>NaN</td>\n      <td>7568</td>\n      <td>11.19</td>\n      <td>64000</td>\n      <td>138</td>\n      <td>2002</td>\n      <td>2338</td>\n      <td>22</td>\n    </tr>\n    <tr>\n      <th>2</th>\n      <td>2018</td>\n      <td>549300PUSSF737Y6XW86</td>\n      <td>12060</td>\n      <td>GA</td>\n      <td>13223.0</td>\n      <td>1.322312e+10</td>\n      <td>C</td>\n      <td>Conventional:First Lien</td>\n      <td>Single Family (1-4 Units):Site-Built</td>\n      <td>Not Hispanic or Latino</td>\n      <td>...</td>\n      <td>NaN</td>\n      <td>NaN</td>\n      <td>NaN</td>\n      <td>11924</td>\n      <td>26.72</td>\n      <td>74400</td>\n      <td>125</td>\n      <td>3082</td>\n      <td>3775</td>\n      <td>13</td>\n    </tr>\n    <tr>\n      <th>3</th>\n      <td>2018</td>\n      <td>JJKC32MCHWDI71265Z06</td>\n      <td>17900</td>\n      <td>SC</td>\n      <td>45079.0</td>\n      <td>4.507901e+10</td>\n      <td>C</td>\n      <td>Conventional:First Lien</td>\n      <td>Single Family (1-4 Units):Site-Built</td>\n      <td>Not Hispanic or Latino</td>\n      <td>...</td>\n      <td>NaN</td>\n      <td>NaN</td>\n      <td>NaN</td>\n      <td>6860</td>\n      <td>53.85</td>\n      <td>68800</td>\n      <td>128</td>\n      <td>1815</td>\n      <td>2465</td>\n      <td>13</td>\n    </tr>\n    <tr>\n      <th>4</th>\n      <td>2018</td>\n      <td>5493002UNUIL8WHZAD63</td>\n      <td>31140</td>\n      <td>KY</td>\n      <td>21185.0</td>\n      <td>2.118503e+10</td>\n      <td>C</td>\n      <td>Conventional:First Lien</td>\n      <td>Single Family (1-4 Units):Site-Built</td>\n      <td>Not Hispanic or Latino</td>\n      <td>...</td>\n      <td>NaN</td>\n      <td>NaN</td>\n      <td>NaN</td>\n      <td>4719</td>\n      <td>6.42</td>\n      <td>70400</td>\n      <td>161</td>\n      <td>1412</td>\n      <td>1616</td>\n      <td>33</td>\n    </tr>\n  </tbody>\n</table>\n<p>5 rows × 99 columns</p>\n</div>"
     },
     "metadata": {}
    }
   ],
   "execution_count": null
  },
  {
   "cell_type": "markdown",
   "source": "<a style='text-decoration:none;line-height:16px;display:flex;color:#5B5B62;padding:10px;justify-content:end;' href='https://deepnote.com?utm_source=created-in-deepnote-cell&projectId=d744b6b9-dca0-438e-bfce-63b7f8b78ad5' target=\"_blank\">\n<img alt='Created in deepnote.com' style='display:inline;max-height:16px;margin:0px;margin-right:7.5px;' src='data:image/svg+xml;base64,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' > </img>\nCreated in <span style='font-weight:600;margin-left:4px;'>Deepnote</span></a>",
   "metadata": {
    "tags": [],
    "created_in_deepnote_cell": true,
    "deepnote_cell_type": "markdown"
   }
  }
 ],
 "nbformat": 4,
 "nbformat_minor": 2,
 "metadata": {
  "orig_nbformat": 2,
  "deepnote": {
   "is_reactive": false
  },
  "deepnote_notebook_id": "7b11b609-c98e-4fb2-9ecc-9a9894e6d702",
  "deepnote_execution_queue": []
 }
}